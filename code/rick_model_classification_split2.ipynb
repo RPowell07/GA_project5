{
 "cells": [
  {
   "cell_type": "code",
   "execution_count": 4,
   "id": "ca311aba-bdd3-4f6f-a7ea-1643ca48f832",
   "metadata": {},
   "outputs": [],
   "source": [
    "import pandas as pd\n",
    "import numpy as np\n",
    "import matplotlib.pyplot as plt\n",
    "import seaborn as sns\n",
    "\n",
    "from sklearn.model_selection import GridSearchCV, train_test_split, cross_val_score\n",
    "from sklearn.metrics import confusion_matrix, ConfusionMatrixDisplay\n",
    "from sklearn.ensemble import RandomForestClassifier, ExtraTreesClassifier, RandomForestRegressor, ExtraTreesRegressor, BaggingClassifier\n",
    "from sklearn.ensemble import GradientBoostingClassifier, AdaBoostClassifier, VotingClassifier, GradientBoostingRegressor, AdaBoostRegressor, BaggingRegressor\n",
    "from sklearn.tree import DecisionTreeClassifier, DecisionTreeRegressor\n",
    "from sklearn.linear_model import LogisticRegression, LinearRegression\n",
    "from sklearn.neighbors import KNeighborsClassifier, KNeighborsRegressor\n",
    "from sklearn.naive_bayes import MultinomialNB\n",
    "from sklearn import metrics"
   ]
  },
  {
   "cell_type": "code",
   "execution_count": 5,
   "id": "e56cd183-9b49-441e-8206-2e1102eb96c5",
   "metadata": {},
   "outputs": [
    {
     "data": {
      "text/html": [
       "<div>\n",
       "<style scoped>\n",
       "    .dataframe tbody tr th:only-of-type {\n",
       "        vertical-align: middle;\n",
       "    }\n",
       "\n",
       "    .dataframe tbody tr th {\n",
       "        vertical-align: top;\n",
       "    }\n",
       "\n",
       "    .dataframe thead th {\n",
       "        text-align: right;\n",
       "    }\n",
       "</style>\n",
       "<table border=\"1\" class=\"dataframe\">\n",
       "  <thead>\n",
       "    <tr style=\"text-align: right;\">\n",
       "      <th></th>\n",
       "      <th>Age</th>\n",
       "      <th>Height</th>\n",
       "      <th>Weight</th>\n",
       "      <th>fam_hx_overweight</th>\n",
       "      <th>high_cal_foods</th>\n",
       "      <th>vegetables</th>\n",
       "      <th>main_meals</th>\n",
       "      <th>smoke</th>\n",
       "      <th>H2O</th>\n",
       "      <th>monitor_cals</th>\n",
       "      <th>...</th>\n",
       "      <th>food_bw_meals_Frequently</th>\n",
       "      <th>food_bw_meals_Sometimes</th>\n",
       "      <th>food_bw_meals_no</th>\n",
       "      <th>alcohol_Frequently</th>\n",
       "      <th>alcohol_Sometimes</th>\n",
       "      <th>alcohol_no</th>\n",
       "      <th>transport_Bike</th>\n",
       "      <th>transport_Motorbike</th>\n",
       "      <th>transport_Public</th>\n",
       "      <th>transport_Walking</th>\n",
       "    </tr>\n",
       "  </thead>\n",
       "  <tbody>\n",
       "    <tr>\n",
       "      <th>0</th>\n",
       "      <td>21.0</td>\n",
       "      <td>1.62</td>\n",
       "      <td>64.0</td>\n",
       "      <td>1</td>\n",
       "      <td>0</td>\n",
       "      <td>2.0</td>\n",
       "      <td>3.0</td>\n",
       "      <td>0</td>\n",
       "      <td>2.0</td>\n",
       "      <td>0</td>\n",
       "      <td>...</td>\n",
       "      <td>0</td>\n",
       "      <td>1</td>\n",
       "      <td>0</td>\n",
       "      <td>0</td>\n",
       "      <td>0</td>\n",
       "      <td>1</td>\n",
       "      <td>0</td>\n",
       "      <td>0</td>\n",
       "      <td>1</td>\n",
       "      <td>0</td>\n",
       "    </tr>\n",
       "    <tr>\n",
       "      <th>1</th>\n",
       "      <td>21.0</td>\n",
       "      <td>1.52</td>\n",
       "      <td>56.0</td>\n",
       "      <td>1</td>\n",
       "      <td>0</td>\n",
       "      <td>3.0</td>\n",
       "      <td>3.0</td>\n",
       "      <td>1</td>\n",
       "      <td>3.0</td>\n",
       "      <td>1</td>\n",
       "      <td>...</td>\n",
       "      <td>0</td>\n",
       "      <td>1</td>\n",
       "      <td>0</td>\n",
       "      <td>0</td>\n",
       "      <td>1</td>\n",
       "      <td>0</td>\n",
       "      <td>0</td>\n",
       "      <td>0</td>\n",
       "      <td>1</td>\n",
       "      <td>0</td>\n",
       "    </tr>\n",
       "    <tr>\n",
       "      <th>2</th>\n",
       "      <td>23.0</td>\n",
       "      <td>1.80</td>\n",
       "      <td>77.0</td>\n",
       "      <td>1</td>\n",
       "      <td>0</td>\n",
       "      <td>2.0</td>\n",
       "      <td>3.0</td>\n",
       "      <td>0</td>\n",
       "      <td>2.0</td>\n",
       "      <td>0</td>\n",
       "      <td>...</td>\n",
       "      <td>0</td>\n",
       "      <td>1</td>\n",
       "      <td>0</td>\n",
       "      <td>1</td>\n",
       "      <td>0</td>\n",
       "      <td>0</td>\n",
       "      <td>0</td>\n",
       "      <td>0</td>\n",
       "      <td>1</td>\n",
       "      <td>0</td>\n",
       "    </tr>\n",
       "    <tr>\n",
       "      <th>3</th>\n",
       "      <td>27.0</td>\n",
       "      <td>1.80</td>\n",
       "      <td>87.0</td>\n",
       "      <td>0</td>\n",
       "      <td>0</td>\n",
       "      <td>3.0</td>\n",
       "      <td>3.0</td>\n",
       "      <td>0</td>\n",
       "      <td>2.0</td>\n",
       "      <td>0</td>\n",
       "      <td>...</td>\n",
       "      <td>0</td>\n",
       "      <td>1</td>\n",
       "      <td>0</td>\n",
       "      <td>1</td>\n",
       "      <td>0</td>\n",
       "      <td>0</td>\n",
       "      <td>0</td>\n",
       "      <td>0</td>\n",
       "      <td>0</td>\n",
       "      <td>1</td>\n",
       "    </tr>\n",
       "    <tr>\n",
       "      <th>4</th>\n",
       "      <td>22.0</td>\n",
       "      <td>1.78</td>\n",
       "      <td>89.8</td>\n",
       "      <td>0</td>\n",
       "      <td>0</td>\n",
       "      <td>2.0</td>\n",
       "      <td>1.0</td>\n",
       "      <td>0</td>\n",
       "      <td>2.0</td>\n",
       "      <td>0</td>\n",
       "      <td>...</td>\n",
       "      <td>0</td>\n",
       "      <td>1</td>\n",
       "      <td>0</td>\n",
       "      <td>0</td>\n",
       "      <td>1</td>\n",
       "      <td>0</td>\n",
       "      <td>0</td>\n",
       "      <td>0</td>\n",
       "      <td>1</td>\n",
       "      <td>0</td>\n",
       "    </tr>\n",
       "  </tbody>\n",
       "</table>\n",
       "<p>5 rows × 24 columns</p>\n",
       "</div>"
      ],
      "text/plain": [
       "    Age  Height  Weight  fam_hx_overweight  high_cal_foods  vegetables  \\\n",
       "0  21.0    1.62    64.0                  1               0         2.0   \n",
       "1  21.0    1.52    56.0                  1               0         3.0   \n",
       "2  23.0    1.80    77.0                  1               0         2.0   \n",
       "3  27.0    1.80    87.0                  0               0         3.0   \n",
       "4  22.0    1.78    89.8                  0               0         2.0   \n",
       "\n",
       "   main_meals  smoke  H2O  monitor_cals  ...  food_bw_meals_Frequently  \\\n",
       "0         3.0      0  2.0             0  ...                         0   \n",
       "1         3.0      1  3.0             1  ...                         0   \n",
       "2         3.0      0  2.0             0  ...                         0   \n",
       "3         3.0      0  2.0             0  ...                         0   \n",
       "4         1.0      0  2.0             0  ...                         0   \n",
       "\n",
       "   food_bw_meals_Sometimes  food_bw_meals_no  alcohol_Frequently  \\\n",
       "0                        1                 0                   0   \n",
       "1                        1                 0                   0   \n",
       "2                        1                 0                   1   \n",
       "3                        1                 0                   1   \n",
       "4                        1                 0                   0   \n",
       "\n",
       "   alcohol_Sometimes  alcohol_no  transport_Bike  transport_Motorbike  \\\n",
       "0                  0           1               0                    0   \n",
       "1                  1           0               0                    0   \n",
       "2                  0           0               0                    0   \n",
       "3                  0           0               0                    0   \n",
       "4                  1           0               0                    0   \n",
       "\n",
       "   transport_Public  transport_Walking  \n",
       "0                 1                  0  \n",
       "1                 1                  0  \n",
       "2                 1                  0  \n",
       "3                 0                  1  \n",
       "4                 1                  0  \n",
       "\n",
       "[5 rows x 24 columns]"
      ]
     },
     "execution_count": 5,
     "metadata": {},
     "output_type": "execute_result"
    }
   ],
   "source": [
    "df = pd.read_csv('../data/survey_clean_rick_test2_renamed.csv')\n",
    "df.head()"
   ]
  },
  {
   "cell_type": "code",
   "execution_count": 6,
   "id": "7bcfe18c-bdb2-4ea0-8886-f23f9faf360c",
   "metadata": {},
   "outputs": [],
   "source": [
    "X = df.drop(columns = ['Weight', 'obesity'])\n",
    "y = df['obesity']"
   ]
  },
  {
   "cell_type": "code",
   "execution_count": 7,
   "id": "c7b8bc07-f664-4ba7-9222-29db452b11ff",
   "metadata": {},
   "outputs": [],
   "source": [
    "X_train, X_test, y_train, y_test = train_test_split(X, y, random_state = 42, stratify = y)"
   ]
  },
  {
   "cell_type": "code",
   "execution_count": 8,
   "id": "9e6026ca-62c1-41ee-aab0-28ef06fad19b",
   "metadata": {},
   "outputs": [
    {
     "data": {
      "text/plain": [
       "LogisticRegression(max_iter=10000)"
      ]
     },
     "execution_count": 8,
     "metadata": {},
     "output_type": "execute_result"
    }
   ],
   "source": [
    "logreg = LogisticRegression(max_iter = 10000)\n",
    "logreg.fit(X_train, y_train)"
   ]
  },
  {
   "cell_type": "code",
   "execution_count": 9,
   "id": "0057481b-bca0-4eb6-9901-a9cfdd12db4f",
   "metadata": {},
   "outputs": [
    {
     "name": "stdout",
     "output_type": "stream",
     "text": [
      "Train: 0.6626658243840808\n",
      "Test: 0.6553030303030303\n"
     ]
    }
   ],
   "source": [
    "print(f'Train: {logreg.score(X_train, y_train)}')\n",
    "print(f'Test: {logreg.score(X_test, y_test)}')"
   ]
  },
  {
   "cell_type": "code",
   "execution_count": 10,
   "id": "38105c79-3c7a-4c1f-be40-23251e87e6df",
   "metadata": {},
   "outputs": [],
   "source": [
    "predslog = logreg.predict(X_test)"
   ]
  },
  {
   "cell_type": "code",
   "execution_count": 11,
   "id": "2c1c18b5-ad17-4f62-ad2f-7dfc76b9ae98",
   "metadata": {},
   "outputs": [
    {
     "data": {
      "image/png": "[encoded data removed]",
      "text/plain": [
       "<Figure size 432x288 with 2 Axes>"
      ]
     },
     "metadata": {
      "needs_background": "light"
     },
     "output_type": "display_data"
    }
   ],
   "source": [
    "ConfusionMatrixDisplay.from_predictions(y_test, predslog, \n",
    "                                        cmap = 'magma',\n",
    "                                       )\n",
    "plt.title('Obesity Logistic Regression')\n",
    "\n",
    "plt.tight_layout()\n",
    "plt.savefig('../images/logreg_complex_cmatrix');"
   ]
  },
  {
   "cell_type": "code",
   "execution_count": 12,
   "id": "9867232d-14a5-4731-acd2-bc540ebb4b6c",
   "metadata": {},
   "outputs": [
    {
     "data": {
      "text/plain": [
       "RandomForestClassifier()"
      ]
     },
     "execution_count": 12,
     "metadata": {},
     "output_type": "execute_result"
    }
   ],
   "source": [
    "rf = RandomForestClassifier()\n",
    "rf.fit(X_train, y_train)"
   ]
  },
  {
   "cell_type": "code",
   "execution_count": 13,
   "id": "3287a54f-02e7-4853-846c-c8375f274f3a",
   "metadata": {},
   "outputs": [
    {
     "name": "stdout",
     "output_type": "stream",
     "text": [
      "Train: 1.0\n",
      "Test: 0.8693181818181818\n"
     ]
    }
   ],
   "source": [
    "print(f'Train: {rf.score(X_train, y_train)}')\n",
    "print(f'Test: {rf.score(X_test, y_test)}')"
   ]
  },
  {
   "cell_type": "code",
   "execution_count": 14,
   "id": "eb5f6919-f1f8-4cc7-b09e-edc95830e74f",
   "metadata": {},
   "outputs": [],
   "source": [
    "predsrf = rf.predict(X_test)"
   ]
  },
  {
   "cell_type": "code",
   "execution_count": 15,
   "id": "92afa916-53dd-4f0a-ab53-fb30e995bf15",
   "metadata": {},
   "outputs": [
    {
     "data": {
      "image/png": "[encoded data removed]",
      "text/plain": [
       "<Figure size 432x288 with 2 Axes>"
      ]
     },
     "metadata": {
      "needs_background": "light"
     },
     "output_type": "display_data"
    }
   ],
   "source": [
    "ConfusionMatrixDisplay.from_predictions(y_test, predsrf, \n",
    "                                        cmap = 'magma',\n",
    "                                       )\n",
    "plt.title('Obesity RandomForest')\n",
    "\n",
    "plt.tight_layout()\n",
    "plt.savefig('../images/rf_complex_cmatrix');"
   ]
  },
  {
   "cell_type": "code",
   "execution_count": 16,
   "id": "e453dc3b-a11e-48ec-a1fc-86b854b5eb05",
   "metadata": {},
   "outputs": [
    {
     "data": {
      "text/plain": [
       "AdaBoostClassifier()"
      ]
     },
     "execution_count": 16,
     "metadata": {},
     "output_type": "execute_result"
    }
   ],
   "source": [
    "ada = AdaBoostClassifier()\n",
    "ada.fit(X_train, y_train)"
   ]
  },
  {
   "cell_type": "code",
   "execution_count": 17,
   "id": "de1558cc-5ed1-4a12-bd49-ec3d0f320ff9",
   "metadata": {},
   "outputs": [
    {
     "name": "stdout",
     "output_type": "stream",
     "text": [
      "Train: 0.6708780795957043\n",
      "Test: 0.6439393939393939\n"
     ]
    }
   ],
   "source": [
    "print(f'Train: {ada.score(X_train, y_train)}')\n",
    "print(f'Test: {ada.score(X_test, y_test)}')"
   ]
  },
  {
   "cell_type": "code",
   "execution_count": 18,
   "id": "a916dbb3-49b4-4556-b824-df8eb9a82248",
   "metadata": {},
   "outputs": [],
   "source": [
    "predsada = ada.predict(X_test)"
   ]
  },
  {
   "cell_type": "code",
   "execution_count": 19,
   "id": "233b2169-2061-435e-9e12-516ef735512a",
   "metadata": {},
   "outputs": [
    {
     "data": {
      "image/png": "[encoded data removed]",
      "text/plain": [
       "<Figure size 432x288 with 2 Axes>"
      ]
     },
     "metadata": {
      "needs_background": "light"
     },
     "output_type": "display_data"
    }
   ],
   "source": [
    "ConfusionMatrixDisplay.from_predictions(y_test, predsada, \n",
    "                                        cmap = 'magma',\n",
    "                                       )\n",
    "plt.title('Obesity AdaBoost')\n",
    "\n",
    "plt.tight_layout()\n",
    "plt.savefig('../images/ada_complex_cmatrix');"
   ]
  },
  {
   "cell_type": "code",
   "execution_count": 20,
   "id": "63638bc6-0038-452e-873c-0998ea5601f5",
   "metadata": {},
   "outputs": [
    {
     "data": {
      "text/plain": [
       "GradientBoostingClassifier()"
      ]
     },
     "execution_count": 20,
     "metadata": {},
     "output_type": "execute_result"
    }
   ],
   "source": [
    "gr = GradientBoostingClassifier()\n",
    "gr.fit(X_train, y_train)"
   ]
  },
  {
   "cell_type": "code",
   "execution_count": 21,
   "id": "83a330bb-5758-49ea-82d8-5510cd3896e8",
   "metadata": {},
   "outputs": [
    {
     "name": "stdout",
     "output_type": "stream",
     "text": [
      "Train: 0.9437776373973468\n",
      "Test: 0.8333333333333334\n"
     ]
    }
   ],
   "source": [
    "print(f'Train: {gr.score(X_train, y_train)}')\n",
    "print(f'Test: {gr.score(X_test, y_test)}')"
   ]
  },
  {
   "cell_type": "code",
   "execution_count": 22,
   "id": "e6a5be29-67be-496f-8ae4-e9c88d13cbd9",
   "metadata": {},
   "outputs": [],
   "source": [
    "predsgr = gr.predict(X_test)"
   ]
  },
  {
   "cell_type": "code",
   "execution_count": 23,
   "id": "e3373e28-4f57-4c7d-a4b2-58f0a380e21d",
   "metadata": {},
   "outputs": [
    {
     "data": {
      "image/png": "[encoded data removed]",
      "text/plain": [
       "<Figure size 432x288 with 2 Axes>"
      ]
     },
     "metadata": {
      "needs_background": "light"
     },
     "output_type": "display_data"
    }
   ],
   "source": [
    "ConfusionMatrixDisplay.from_predictions(y_test, predsgr, \n",
    "                                        cmap = 'magma',\n",
    "                                       )\n",
    "plt.title('Obesity GradientBoost')\n",
    "\n",
    "plt.tight_layout()\n",
    "plt.savefig('../images/gr_complex_cmatrix');"
   ]
  }
 ],
 "metadata": {
  "kernelspec": {
   "display_name": "Python 3 (ipykernel)",
   "language": "python",
   "name": "python3"
  },
  "language_info": {
   "codemirror_mode": {
    "name": "ipython",
    "version": 3
   },
   "file_extension": ".py",
   "mimetype": "text/x-python",
   "name": "python",
   "nbconvert_exporter": "python",
   "pygments_lexer": "ipython3",
   "version": "3.9.12"
  }
 },
 "nbformat": 4,
 "nbformat_minor": 5
}
