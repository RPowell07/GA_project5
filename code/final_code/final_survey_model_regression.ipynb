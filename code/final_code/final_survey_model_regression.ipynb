{
 "cells": [
  {
   "cell_type": "markdown",
   "id": "e0900a2d-aee7-4dbc-af6d-d432b69393aa",
   "metadata": {},
   "source": [
    "# Regression Model for Survey Data"
   ]
  },
  {
   "cell_type": "code",
   "execution_count": 1,
   "id": "3bb982ba-17bc-410f-97fd-6df095d0f2f0",
   "metadata": {},
   "outputs": [],
   "source": [
    "# Imports\n",
    "import pandas as pd\n",
    "import numpy as np\n",
    "import matplotlib.pyplot as plt\n",
    "\n",
    "from sklearn.preprocessing import StandardScaler, PolynomialFeatures\n",
    "from sklearn.linear_model import LinearRegression\n",
    "from sklearn.model_selection import train_test_split, GridSearchCV\n",
    "from sklearn.pipeline import Pipeline\n",
    "from sklearn.neighbors import KNeighborsRegressor\n",
    "from sklearn.tree import DecisionTreeRegressor\n",
    "from sklearn.ensemble import BaggingRegressor, RandomForestRegressor, AdaBoostRegressor\n",
    "\n",
    "from sklearn import metrics\n",
    "np.random.seed(42)"
   ]
  },
  {
   "cell_type": "code",
   "execution_count": 2,
   "id": "e1bf4f65-3d1d-4ea0-98ef-a955215a81dd",
   "metadata": {},
   "outputs": [],
   "source": [
    "# Read Data\n",
    "df = pd.read_csv('../../data/survey.csv')\n",
    "\n",
    "# From Rick's cleaning\n",
    "df.rename(columns = {'family_history_with_overweight':'fam_hx_overweight', \n",
    "                     'MTRANS':'transport',\n",
    "                     'FAVC':'high_cal_foods',\n",
    "                     'FCVC':'vegetables',\n",
    "                     'NCP':'main_meals',\n",
    "                     'CAEC': 'food_bw_meals',\n",
    "                     'SMOKE': 'smoke',\n",
    "                     'CH2O': 'H2O',\n",
    "                     'SCC': 'monitor_cals',\n",
    "                     'FAF': 'physical_activity',\n",
    "                     'TUE': 'tech_use',\n",
    "                     'CALC': 'alcohol',\n",
    "                     'NObeyesdad': 'obesity'}, \n",
    "          inplace = True)\n",
    "\n",
    "# Binarize columns\n",
    "df['fam_hx_overweight'] = df['fam_hx_overweight'].map({'yes':1, 'no':0})\n",
    "df['high_cal_foods'] = df['high_cal_foods'].map({'yes':1, 'no':0})\n",
    "df['smoke'] = df['smoke'].map({'yes':1, 'no':0})\n",
    "df['monitor_cals'] = df['monitor_cals'].map({'yes':1, 'no':0})\n",
    "\n",
    "# Get dummies\n",
    "df = pd.get_dummies(data = df, columns = ['Gender', 'food_bw_meals', 'alcohol', 'transport'], drop_first = True)\n",
    "\n",
    "# Create polynomial features\n",
    "poly = PolynomialFeatures(2, interaction_only = True, include_bias = False)\n",
    "array_poly = poly.fit_transform(df[['Height', 'high_cal_foods', 'vegetables', 'main_meals', 'H2O']])\n",
    "\n",
    "# Polynomial Feature Dataframe\n",
    "df_poly = pd.DataFrame(array_poly, columns = poly.get_feature_names_out(['Height', 'high_cal_foods', 'vegetables', 'main_meals', 'H2O']))\n",
    "\n",
    "# Merge Polynomial Features df\n",
    "df = df.merge(df_poly.iloc[:,4:], left_index = True, right_index = True)\n",
    "\n",
    "# Create height^2 column\n",
    "df['h2'] = df['Height'] ** 2\n",
    "\n",
    "X = df.drop(columns = ['obesity', 'Weight'])\n",
    "y = df['Weight']\n",
    "\n",
    "# Train/Test Split\n",
    "X_train, X_test, y_train, y_test = train_test_split(X, y, random_state = 42)"
   ]
  },
  {
   "cell_type": "code",
   "execution_count": 3,
   "id": "493d6ae1-cda3-4d1a-8465-e7bed676f9c5",
   "metadata": {},
   "outputs": [],
   "source": [
    "# Pipelines function\n",
    "def pipe_model(model):\n",
    "    pipe = Pipeline([\n",
    "        ('ss', StandardScaler()),\n",
    "        ('model', model)\n",
    "    ])\n",
    "    pipe.fit(X_train, y_train)\n",
    "    print(f'{model}')\n",
    "    print(f'Training r2 score: {pipe.score(X_train, y_train)}')\n",
    "    print(f'Testing r2 score: {pipe.score(X_test, y_test)}')\n",
    "    print(f'Testing MSE: {metrics.mean_squared_error(y_test, pipe.predict(X_test))}')\n",
    "    return print('='*40)"
   ]
  },
  {
   "cell_type": "code",
   "execution_count": 4,
   "id": "1590481a-5bd3-4eb0-8b01-8c1016e57115",
   "metadata": {},
   "outputs": [
    {
     "name": "stdout",
     "output_type": "stream",
     "text": [
      "LinearRegression()\n",
      "Training r2 score: 0.5909953407191537\n",
      "Testing r2 score: 0.5799892184442049\n",
      "Testing MSE: 297.23932533910914\n",
      "========================================\n",
      "KNeighborsRegressor()\n",
      "Training r2 score: 0.8984835144637466\n",
      "Testing r2 score: 0.8121469030470617\n",
      "Testing MSE: 132.94260588816837\n",
      "========================================\n",
      "DecisionTreeRegressor()\n",
      "Training r2 score: 1.0\n",
      "Testing r2 score: 0.7601561101642688\n",
      "Testing MSE: 169.7362047169495\n",
      "========================================\n",
      "BaggingRegressor()\n",
      "Training r2 score: 0.9809798405367192\n",
      "Testing r2 score: 0.8620851068104951\n",
      "Testing MSE: 97.60161311577676\n",
      "========================================\n",
      "RandomForestRegressor()\n",
      "Training r2 score: 0.9861900089207774\n",
      "Testing r2 score: 0.8607558668542279\n",
      "Testing MSE: 98.54230893875335\n",
      "========================================\n",
      "AdaBoostRegressor()\n",
      "Training r2 score: 0.7212455735351814\n",
      "Testing r2 score: 0.6666124366699029\n",
      "Testing MSE: 235.93654913718802\n",
      "========================================\n"
     ]
    }
   ],
   "source": [
    "pipe_model(LinearRegression())\n",
    "pipe_model(KNeighborsRegressor())\n",
    "pipe_model(DecisionTreeRegressor())\n",
    "pipe_model(BaggingRegressor())\n",
    "pipe_model(RandomForestRegressor())\n",
    "pipe_model(AdaBoostRegressor())"
   ]
  },
  {
   "cell_type": "code",
   "execution_count": 5,
   "id": "11e8a8eb-bcb8-4639-a064-cb255eddd0d9",
   "metadata": {},
   "outputs": [
    {
     "data": {
      "text/plain": [
       "array([7.94130313e-02, 2.22422638e-02, 2.50622310e-01, 2.17284073e-04,\n",
       "       4.60638660e-03, 1.78615943e-02, 3.32543186e-04, 2.73328722e-03,\n",
       "       1.29133622e-03, 5.27584933e-02, 1.77854595e-02, 7.27382911e-02,\n",
       "       5.03831088e-03, 2.96612355e-02, 1.07339767e-04, 7.60877629e-04,\n",
       "       6.31757387e-02, 4.10062115e-03, 3.86663570e-05, 5.45610906e-05,\n",
       "       1.69441515e-02, 4.77717380e-04, 3.10199172e-03, 9.21906089e-02,\n",
       "       5.89625169e-02, 2.34168539e-02, 1.10294496e-02, 5.84742168e-02,\n",
       "       1.80641225e-02, 4.42974414e-03, 4.71410836e-02, 6.59414311e-03,\n",
       "       9.42736999e-03, 2.42063985e-02])"
      ]
     },
     "execution_count": 5,
     "metadata": {},
     "output_type": "execute_result"
    }
   ],
   "source": [
    "ss = StandardScaler()\n",
    "X_train_sc = ss.fit_transform(X_train)\n",
    "X_test_sc = ss.transform(X_test)\n",
    "\n",
    "rf = RandomForestRegressor()\n",
    "rf.fit(X_train_sc, y_train)\n",
    "rf.feature_importances_"
   ]
  },
  {
   "cell_type": "code",
   "execution_count": 6,
   "id": "943d6ed1-8767-4f14-8f84-f16fea0ac8b0",
   "metadata": {},
   "outputs": [
    {
     "data": {
      "image/png": "[encoded data removed]",
      "text/plain": [
       "<Figure size 720x504 with 1 Axes>"
      ]
     },
     "metadata": {
      "needs_background": "light"
     },
     "output_type": "display_data"
    }
   ],
   "source": [
    "# From sklearn https://scikit-learn.org/stable/auto_examples/ensemble/plot_forest_importances.html\n",
    "feature_names = X.columns\n",
    "importances = rf.feature_importances_\n",
    "forest_importances = pd.Series(importances, index=feature_names).sort_values()\n",
    "\n",
    "fig, ax = plt.subplots(figsize = (10,7))\n",
    "forest_importances.plot.barh(ax=ax)\n",
    "ax.set_title(\"Feature importances using MDI\")\n",
    "ax.set_xlabel(\"Mean Decrease in Impurity\")\n",
    "fig.tight_layout()\n",
    "plt.savefig('../../images/rfr_feat_importances.png');"
   ]
  },
  {
   "cell_type": "code",
   "execution_count": 7,
   "id": "d8fe3768-b1e6-4229-8d35-79c7f4530843",
   "metadata": {},
   "outputs": [
    {
     "data": {
      "text/plain": [
       "707.6969768635811"
      ]
     },
     "execution_count": 7,
     "metadata": {},
     "output_type": "execute_result"
    }
   ],
   "source": [
    "# Baseline MSE\n",
    "metrics.mean_squared_error(y_test, pd.Series(y.mean(), index=range(len(y_test))))"
   ]
  },
  {
   "cell_type": "code",
   "execution_count": null,
   "id": "6966db48-2be7-44c3-a1d3-159a272ef378",
   "metadata": {},
   "outputs": [],
   "source": []
  }
 ],
 "metadata": {
  "kernelspec": {
   "display_name": "Python [conda env:dsi] *",
   "language": "python",
   "name": "conda-env-dsi-py"
  },
  "language_info": {
   "codemirror_mode": {
    "name": "ipython",
    "version": 3
   },
   "file_extension": ".py",
   "mimetype": "text/x-python",
   "name": "python",
   "nbconvert_exporter": "python",
   "pygments_lexer": "ipython3",
   "version": "3.8.13"
  }
 },
 "nbformat": 4,
 "nbformat_minor": 5
}
