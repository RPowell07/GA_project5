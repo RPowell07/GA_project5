{
 "cells": [
  {
   "cell_type": "code",
   "execution_count": 1,
   "id": "5564d340-f431-4e16-862b-26fc12ee9cb3",
   "metadata": {},
   "outputs": [],
   "source": [
    "# Imports\n",
    "import pandas as pd\n",
    "import numpy as np\n",
    "\n",
    "import matplotlib.pyplot as plt\n",
    "import seaborn as sns"
   ]
  },
  {
   "cell_type": "code",
   "execution_count": 2,
   "id": "cb7b0792-3893-41d8-9cfd-2ffc63a22d72",
   "metadata": {},
   "outputs": [],
   "source": [
    "df = pd.read_csv('./cdc.csv')"
   ]
  },
  {
   "cell_type": "code",
   "execution_count": 3,
   "id": "7aa69035-608b-4380-8051-97c5479faf24",
   "metadata": {},
   "outputs": [
    {
     "data": {
      "text/html": [
       "<div>\n",
       "<style scoped>\n",
       "    .dataframe tbody tr th:only-of-type {\n",
       "        vertical-align: middle;\n",
       "    }\n",
       "\n",
       "    .dataframe tbody tr th {\n",
       "        vertical-align: top;\n",
       "    }\n",
       "\n",
       "    .dataframe thead th {\n",
       "        text-align: right;\n",
       "    }\n",
       "</style>\n",
       "<table border=\"1\" class=\"dataframe\">\n",
       "  <thead>\n",
       "    <tr style=\"text-align: right;\">\n",
       "      <th></th>\n",
       "      <th>YearStart</th>\n",
       "      <th>YearEnd</th>\n",
       "      <th>LocationAbbr</th>\n",
       "      <th>LocationDesc</th>\n",
       "      <th>Datasource</th>\n",
       "      <th>Class</th>\n",
       "      <th>Topic</th>\n",
       "      <th>Question</th>\n",
       "      <th>Data_Value_Unit</th>\n",
       "      <th>Data_Value_Type</th>\n",
       "      <th>...</th>\n",
       "      <th>GeoLocation</th>\n",
       "      <th>ClassID</th>\n",
       "      <th>TopicID</th>\n",
       "      <th>QuestionID</th>\n",
       "      <th>DataValueTypeID</th>\n",
       "      <th>LocationID</th>\n",
       "      <th>StratificationCategory1</th>\n",
       "      <th>Stratification1</th>\n",
       "      <th>StratificationCategoryId1</th>\n",
       "      <th>StratificationID1</th>\n",
       "    </tr>\n",
       "  </thead>\n",
       "  <tbody>\n",
       "    <tr>\n",
       "      <th>0</th>\n",
       "      <td>2011</td>\n",
       "      <td>2011</td>\n",
       "      <td>AL</td>\n",
       "      <td>Alabama</td>\n",
       "      <td>Behavioral Risk Factor Surveillance System</td>\n",
       "      <td>Obesity / Weight Status</td>\n",
       "      <td>Obesity / Weight Status</td>\n",
       "      <td>Percent of adults aged 18 years and older who ...</td>\n",
       "      <td>NaN</td>\n",
       "      <td>Value</td>\n",
       "      <td>...</td>\n",
       "      <td>(32.84057112200048, -86.63186076199969)</td>\n",
       "      <td>OWS</td>\n",
       "      <td>OWS1</td>\n",
       "      <td>Q036</td>\n",
       "      <td>VALUE</td>\n",
       "      <td>1</td>\n",
       "      <td>Total</td>\n",
       "      <td>Total</td>\n",
       "      <td>OVR</td>\n",
       "      <td>OVERALL</td>\n",
       "    </tr>\n",
       "    <tr>\n",
       "      <th>1</th>\n",
       "      <td>2011</td>\n",
       "      <td>2011</td>\n",
       "      <td>AL</td>\n",
       "      <td>Alabama</td>\n",
       "      <td>Behavioral Risk Factor Surveillance System</td>\n",
       "      <td>Obesity / Weight Status</td>\n",
       "      <td>Obesity / Weight Status</td>\n",
       "      <td>Percent of adults aged 18 years and older who ...</td>\n",
       "      <td>NaN</td>\n",
       "      <td>Value</td>\n",
       "      <td>...</td>\n",
       "      <td>(32.84057112200048, -86.63186076199969)</td>\n",
       "      <td>OWS</td>\n",
       "      <td>OWS1</td>\n",
       "      <td>Q036</td>\n",
       "      <td>VALUE</td>\n",
       "      <td>1</td>\n",
       "      <td>Gender</td>\n",
       "      <td>Male</td>\n",
       "      <td>GEN</td>\n",
       "      <td>MALE</td>\n",
       "    </tr>\n",
       "    <tr>\n",
       "      <th>2</th>\n",
       "      <td>2011</td>\n",
       "      <td>2011</td>\n",
       "      <td>AL</td>\n",
       "      <td>Alabama</td>\n",
       "      <td>Behavioral Risk Factor Surveillance System</td>\n",
       "      <td>Obesity / Weight Status</td>\n",
       "      <td>Obesity / Weight Status</td>\n",
       "      <td>Percent of adults aged 18 years and older who ...</td>\n",
       "      <td>NaN</td>\n",
       "      <td>Value</td>\n",
       "      <td>...</td>\n",
       "      <td>(32.84057112200048, -86.63186076199969)</td>\n",
       "      <td>OWS</td>\n",
       "      <td>OWS1</td>\n",
       "      <td>Q036</td>\n",
       "      <td>VALUE</td>\n",
       "      <td>1</td>\n",
       "      <td>Gender</td>\n",
       "      <td>Female</td>\n",
       "      <td>GEN</td>\n",
       "      <td>FEMALE</td>\n",
       "    </tr>\n",
       "    <tr>\n",
       "      <th>3</th>\n",
       "      <td>2011</td>\n",
       "      <td>2011</td>\n",
       "      <td>AL</td>\n",
       "      <td>Alabama</td>\n",
       "      <td>Behavioral Risk Factor Surveillance System</td>\n",
       "      <td>Obesity / Weight Status</td>\n",
       "      <td>Obesity / Weight Status</td>\n",
       "      <td>Percent of adults aged 18 years and older who ...</td>\n",
       "      <td>NaN</td>\n",
       "      <td>Value</td>\n",
       "      <td>...</td>\n",
       "      <td>(32.84057112200048, -86.63186076199969)</td>\n",
       "      <td>OWS</td>\n",
       "      <td>OWS1</td>\n",
       "      <td>Q036</td>\n",
       "      <td>VALUE</td>\n",
       "      <td>1</td>\n",
       "      <td>Education</td>\n",
       "      <td>Less than high school</td>\n",
       "      <td>EDU</td>\n",
       "      <td>EDUHS</td>\n",
       "    </tr>\n",
       "    <tr>\n",
       "      <th>4</th>\n",
       "      <td>2011</td>\n",
       "      <td>2011</td>\n",
       "      <td>AL</td>\n",
       "      <td>Alabama</td>\n",
       "      <td>Behavioral Risk Factor Surveillance System</td>\n",
       "      <td>Obesity / Weight Status</td>\n",
       "      <td>Obesity / Weight Status</td>\n",
       "      <td>Percent of adults aged 18 years and older who ...</td>\n",
       "      <td>NaN</td>\n",
       "      <td>Value</td>\n",
       "      <td>...</td>\n",
       "      <td>(32.84057112200048, -86.63186076199969)</td>\n",
       "      <td>OWS</td>\n",
       "      <td>OWS1</td>\n",
       "      <td>Q036</td>\n",
       "      <td>VALUE</td>\n",
       "      <td>1</td>\n",
       "      <td>Education</td>\n",
       "      <td>High school graduate</td>\n",
       "      <td>EDU</td>\n",
       "      <td>EDUHSGRAD</td>\n",
       "    </tr>\n",
       "  </tbody>\n",
       "</table>\n",
       "<p>5 rows × 33 columns</p>\n",
       "</div>"
      ],
      "text/plain": [
       "   YearStart  YearEnd LocationAbbr LocationDesc  \\\n",
       "0       2011     2011           AL      Alabama   \n",
       "1       2011     2011           AL      Alabama   \n",
       "2       2011     2011           AL      Alabama   \n",
       "3       2011     2011           AL      Alabama   \n",
       "4       2011     2011           AL      Alabama   \n",
       "\n",
       "                                   Datasource                    Class  \\\n",
       "0  Behavioral Risk Factor Surveillance System  Obesity / Weight Status   \n",
       "1  Behavioral Risk Factor Surveillance System  Obesity / Weight Status   \n",
       "2  Behavioral Risk Factor Surveillance System  Obesity / Weight Status   \n",
       "3  Behavioral Risk Factor Surveillance System  Obesity / Weight Status   \n",
       "4  Behavioral Risk Factor Surveillance System  Obesity / Weight Status   \n",
       "\n",
       "                     Topic                                           Question  \\\n",
       "0  Obesity / Weight Status  Percent of adults aged 18 years and older who ...   \n",
       "1  Obesity / Weight Status  Percent of adults aged 18 years and older who ...   \n",
       "2  Obesity / Weight Status  Percent of adults aged 18 years and older who ...   \n",
       "3  Obesity / Weight Status  Percent of adults aged 18 years and older who ...   \n",
       "4  Obesity / Weight Status  Percent of adults aged 18 years and older who ...   \n",
       "\n",
       "   Data_Value_Unit Data_Value_Type  ...  \\\n",
       "0              NaN           Value  ...   \n",
       "1              NaN           Value  ...   \n",
       "2              NaN           Value  ...   \n",
       "3              NaN           Value  ...   \n",
       "4              NaN           Value  ...   \n",
       "\n",
       "                               GeoLocation  ClassID TopicID QuestionID  \\\n",
       "0  (32.84057112200048, -86.63186076199969)      OWS    OWS1       Q036   \n",
       "1  (32.84057112200048, -86.63186076199969)      OWS    OWS1       Q036   \n",
       "2  (32.84057112200048, -86.63186076199969)      OWS    OWS1       Q036   \n",
       "3  (32.84057112200048, -86.63186076199969)      OWS    OWS1       Q036   \n",
       "4  (32.84057112200048, -86.63186076199969)      OWS    OWS1       Q036   \n",
       "\n",
       "   DataValueTypeID  LocationID  StratificationCategory1  \\\n",
       "0            VALUE           1                    Total   \n",
       "1            VALUE           1                   Gender   \n",
       "2            VALUE           1                   Gender   \n",
       "3            VALUE           1                Education   \n",
       "4            VALUE           1                Education   \n",
       "\n",
       "         Stratification1 StratificationCategoryId1 StratificationID1  \n",
       "0                  Total                       OVR           OVERALL  \n",
       "1                   Male                       GEN              MALE  \n",
       "2                 Female                       GEN            FEMALE  \n",
       "3  Less than high school                       EDU             EDUHS  \n",
       "4   High school graduate                       EDU         EDUHSGRAD  \n",
       "\n",
       "[5 rows x 33 columns]"
      ]
     },
     "execution_count": 3,
     "metadata": {},
     "output_type": "execute_result"
    }
   ],
   "source": [
    "df.head()"
   ]
  },
  {
   "cell_type": "code",
   "execution_count": 4,
   "id": "8e66e3a0-cff6-4bb4-a25d-4ebf1efe5725",
   "metadata": {},
   "outputs": [
    {
     "data": {
      "text/plain": [
       "(53392, 33)"
      ]
     },
     "execution_count": 4,
     "metadata": {},
     "output_type": "execute_result"
    }
   ],
   "source": [
    "df.shape"
   ]
  },
  {
   "cell_type": "code",
   "execution_count": 5,
   "id": "4edbf125-1f40-4218-83c3-6a632d4ac420",
   "metadata": {},
   "outputs": [
    {
     "data": {
      "text/plain": [
       "YearStart                         0\n",
       "YearEnd                           0\n",
       "LocationAbbr                      0\n",
       "LocationDesc                      0\n",
       "Datasource                        0\n",
       "Class                             0\n",
       "Topic                             0\n",
       "Question                          0\n",
       "Data_Value_Unit               53392\n",
       "Data_Value_Type                   0\n",
       "Data_Value                     5046\n",
       "Data_Value_Alt                 5046\n",
       "Data_Value_Footnote_Symbol    48346\n",
       "Data_Value_Footnote           48346\n",
       "Low_Confidence_Limit           5046\n",
       "High_Confidence_Limit          5046\n",
       "Sample_Size                    5046\n",
       "Total                         51485\n",
       "Age(years)                    41954\n",
       "Education                     45764\n",
       "Gender                        49578\n",
       "Income                        40043\n",
       "Race/Ethnicity                38136\n",
       "GeoLocation                    1008\n",
       "ClassID                           0\n",
       "TopicID                           0\n",
       "QuestionID                        0\n",
       "DataValueTypeID                   0\n",
       "LocationID                        0\n",
       "StratificationCategory1           0\n",
       "Stratification1                   0\n",
       "StratificationCategoryId1         0\n",
       "StratificationID1                 0\n",
       "dtype: int64"
      ]
     },
     "execution_count": 5,
     "metadata": {},
     "output_type": "execute_result"
    }
   ],
   "source": [
    "df.isnull().sum()"
   ]
  },
  {
   "cell_type": "code",
   "execution_count": 6,
   "id": "e2931260-beea-4db3-b9a8-cde15523ce97",
   "metadata": {},
   "outputs": [
    {
     "data": {
      "text/plain": [
       "Physical Activity - Behavior        26628\n",
       "Obesity / Weight Status             17920\n",
       "Fruits and Vegetables - Behavior     8844\n",
       "Name: Topic, dtype: int64"
      ]
     },
     "execution_count": 6,
     "metadata": {},
     "output_type": "execute_result"
    }
   ],
   "source": [
    "df.Topic.value_counts()"
   ]
  },
  {
   "cell_type": "code",
   "execution_count": 7,
   "id": "c5e354f8-5a67-4863-b09b-f082c0f0b296",
   "metadata": {},
   "outputs": [
    {
     "data": {
      "text/plain": [
       "Physical Activity          26628\n",
       "Obesity / Weight Status    17920\n",
       "Fruits and Vegetables       8844\n",
       "Name: Class, dtype: int64"
      ]
     },
     "execution_count": 7,
     "metadata": {},
     "output_type": "execute_result"
    }
   ],
   "source": [
    "df.Class.value_counts()"
   ]
  },
  {
   "cell_type": "code",
   "execution_count": 8,
   "id": "43db522b-d450-41e4-a03e-09a65386b621",
   "metadata": {},
   "outputs": [
    {
     "data": {
      "text/plain": [
       "Percent of adults aged 18 years and older who have obesity                                                                                                                                                                                               8960\n",
       "Percent of adults aged 18 years and older who have an overweight classification                                                                                                                                                                          8960\n",
       "Percent of adults who engage in no leisure-time physical activity                                                                                                                                                                                        8932\n",
       "Percent of adults who report consuming vegetables less than one time daily                                                                                                                                                                               4424\n",
       "Percent of adults who engage in muscle-strengthening activities on 2 or more days a week                                                                                                                                                                 4424\n",
       "Percent of adults who achieve at least 150 minutes a week of moderate-intensity aerobic physical activity or 75 minutes a week of vigorous-intensity aerobic activity (or an equivalent combination)                                                     4424\n",
       "Percent of adults who achieve at least 150 minutes a week of moderate-intensity aerobic physical activity or 75 minutes a week of vigorous-intensity aerobic physical activity and engage in muscle-strengthening activities on 2 or more days a week    4424\n",
       "Percent of adults who achieve at least 300 minutes a week of moderate-intensity aerobic physical activity or 150 minutes a week of vigorous-intensity aerobic activity (or an equivalent combination)                                                    4424\n",
       "Percent of adults who report consuming fruit less than one time daily                                                                                                                                                                                    4420\n",
       "Name: Question, dtype: int64"
      ]
     },
     "execution_count": 8,
     "metadata": {},
     "output_type": "execute_result"
    }
   ],
   "source": [
    "df.Question.value_counts()"
   ]
  },
  {
   "cell_type": "code",
   "execution_count": 9,
   "id": "b82ae8c9-276b-499d-8081-66718796b8cc",
   "metadata": {},
   "outputs": [
    {
     "data": {
      "text/plain": [
       "Index(['YearStart', 'YearEnd', 'LocationAbbr', 'LocationDesc', 'Datasource',\n",
       "       'Class', 'Topic', 'Question', 'Data_Value_Unit', 'Data_Value_Type',\n",
       "       'Data_Value', 'Data_Value_Alt', 'Data_Value_Footnote_Symbol',\n",
       "       'Data_Value_Footnote', 'Low_Confidence_Limit', 'High_Confidence_Limit ',\n",
       "       'Sample_Size', 'Total', 'Age(years)', 'Education', 'Gender', 'Income',\n",
       "       'Race/Ethnicity', 'GeoLocation', 'ClassID', 'TopicID', 'QuestionID',\n",
       "       'DataValueTypeID', 'LocationID', 'StratificationCategory1',\n",
       "       'Stratification1', 'StratificationCategoryId1', 'StratificationID1'],\n",
       "      dtype='object')"
      ]
     },
     "execution_count": 9,
     "metadata": {},
     "output_type": "execute_result"
    }
   ],
   "source": [
    "df.columns"
   ]
  },
  {
   "cell_type": "code",
   "execution_count": 10,
   "id": "5d453f07-6969-4d44-ab04-dab51fe02e89",
   "metadata": {},
   "outputs": [],
   "source": [
    "xvars = ['YearStart', 'YearEnd', 'LocationAbbr', 'Topic', 'Question', 'Data_Value', 'Sample_Size', 'Age(years)', 'Education', 'Gender',\n",
    "         'Income', 'Race/Ethnicity', 'GeoLocation', 'StratificationCategory1', 'Stratification1']\n",
    "df_new = df[xvars]"
   ]
  },
  {
   "cell_type": "code",
   "execution_count": 11,
   "id": "89aa3834-3799-42f2-bebc-22d301c8fd2d",
   "metadata": {},
   "outputs": [
    {
     "data": {
      "text/html": [
       "<div>\n",
       "<style scoped>\n",
       "    .dataframe tbody tr th:only-of-type {\n",
       "        vertical-align: middle;\n",
       "    }\n",
       "\n",
       "    .dataframe tbody tr th {\n",
       "        vertical-align: top;\n",
       "    }\n",
       "\n",
       "    .dataframe thead th {\n",
       "        text-align: right;\n",
       "    }\n",
       "</style>\n",
       "<table border=\"1\" class=\"dataframe\">\n",
       "  <thead>\n",
       "    <tr style=\"text-align: right;\">\n",
       "      <th></th>\n",
       "      <th>YearStart</th>\n",
       "      <th>YearEnd</th>\n",
       "      <th>LocationAbbr</th>\n",
       "      <th>Topic</th>\n",
       "      <th>Question</th>\n",
       "      <th>Data_Value</th>\n",
       "      <th>Sample_Size</th>\n",
       "      <th>Age(years)</th>\n",
       "      <th>Education</th>\n",
       "      <th>Gender</th>\n",
       "      <th>Income</th>\n",
       "      <th>Race/Ethnicity</th>\n",
       "      <th>GeoLocation</th>\n",
       "      <th>StratificationCategory1</th>\n",
       "      <th>Stratification1</th>\n",
       "    </tr>\n",
       "  </thead>\n",
       "  <tbody>\n",
       "    <tr>\n",
       "      <th>0</th>\n",
       "      <td>2011</td>\n",
       "      <td>2011</td>\n",
       "      <td>AL</td>\n",
       "      <td>Obesity / Weight Status</td>\n",
       "      <td>Percent of adults aged 18 years and older who ...</td>\n",
       "      <td>32.0</td>\n",
       "      <td>7304.0</td>\n",
       "      <td>NaN</td>\n",
       "      <td>NaN</td>\n",
       "      <td>NaN</td>\n",
       "      <td>NaN</td>\n",
       "      <td>NaN</td>\n",
       "      <td>(32.84057112200048, -86.63186076199969)</td>\n",
       "      <td>Total</td>\n",
       "      <td>Total</td>\n",
       "    </tr>\n",
       "    <tr>\n",
       "      <th>1</th>\n",
       "      <td>2011</td>\n",
       "      <td>2011</td>\n",
       "      <td>AL</td>\n",
       "      <td>Obesity / Weight Status</td>\n",
       "      <td>Percent of adults aged 18 years and older who ...</td>\n",
       "      <td>32.3</td>\n",
       "      <td>2581.0</td>\n",
       "      <td>NaN</td>\n",
       "      <td>NaN</td>\n",
       "      <td>Male</td>\n",
       "      <td>NaN</td>\n",
       "      <td>NaN</td>\n",
       "      <td>(32.84057112200048, -86.63186076199969)</td>\n",
       "      <td>Gender</td>\n",
       "      <td>Male</td>\n",
       "    </tr>\n",
       "    <tr>\n",
       "      <th>2</th>\n",
       "      <td>2011</td>\n",
       "      <td>2011</td>\n",
       "      <td>AL</td>\n",
       "      <td>Obesity / Weight Status</td>\n",
       "      <td>Percent of adults aged 18 years and older who ...</td>\n",
       "      <td>31.8</td>\n",
       "      <td>4723.0</td>\n",
       "      <td>NaN</td>\n",
       "      <td>NaN</td>\n",
       "      <td>Female</td>\n",
       "      <td>NaN</td>\n",
       "      <td>NaN</td>\n",
       "      <td>(32.84057112200048, -86.63186076199969)</td>\n",
       "      <td>Gender</td>\n",
       "      <td>Female</td>\n",
       "    </tr>\n",
       "    <tr>\n",
       "      <th>3</th>\n",
       "      <td>2011</td>\n",
       "      <td>2011</td>\n",
       "      <td>AL</td>\n",
       "      <td>Obesity / Weight Status</td>\n",
       "      <td>Percent of adults aged 18 years and older who ...</td>\n",
       "      <td>33.6</td>\n",
       "      <td>1153.0</td>\n",
       "      <td>NaN</td>\n",
       "      <td>Less than high school</td>\n",
       "      <td>NaN</td>\n",
       "      <td>NaN</td>\n",
       "      <td>NaN</td>\n",
       "      <td>(32.84057112200048, -86.63186076199969)</td>\n",
       "      <td>Education</td>\n",
       "      <td>Less than high school</td>\n",
       "    </tr>\n",
       "    <tr>\n",
       "      <th>4</th>\n",
       "      <td>2011</td>\n",
       "      <td>2011</td>\n",
       "      <td>AL</td>\n",
       "      <td>Obesity / Weight Status</td>\n",
       "      <td>Percent of adults aged 18 years and older who ...</td>\n",
       "      <td>32.8</td>\n",
       "      <td>2402.0</td>\n",
       "      <td>NaN</td>\n",
       "      <td>High school graduate</td>\n",
       "      <td>NaN</td>\n",
       "      <td>NaN</td>\n",
       "      <td>NaN</td>\n",
       "      <td>(32.84057112200048, -86.63186076199969)</td>\n",
       "      <td>Education</td>\n",
       "      <td>High school graduate</td>\n",
       "    </tr>\n",
       "  </tbody>\n",
       "</table>\n",
       "</div>"
      ],
      "text/plain": [
       "   YearStart  YearEnd LocationAbbr                    Topic  \\\n",
       "0       2011     2011           AL  Obesity / Weight Status   \n",
       "1       2011     2011           AL  Obesity / Weight Status   \n",
       "2       2011     2011           AL  Obesity / Weight Status   \n",
       "3       2011     2011           AL  Obesity / Weight Status   \n",
       "4       2011     2011           AL  Obesity / Weight Status   \n",
       "\n",
       "                                            Question  Data_Value  Sample_Size  \\\n",
       "0  Percent of adults aged 18 years and older who ...        32.0       7304.0   \n",
       "1  Percent of adults aged 18 years and older who ...        32.3       2581.0   \n",
       "2  Percent of adults aged 18 years and older who ...        31.8       4723.0   \n",
       "3  Percent of adults aged 18 years and older who ...        33.6       1153.0   \n",
       "4  Percent of adults aged 18 years and older who ...        32.8       2402.0   \n",
       "\n",
       "  Age(years)              Education  Gender Income Race/Ethnicity  \\\n",
       "0        NaN                    NaN     NaN    NaN            NaN   \n",
       "1        NaN                    NaN    Male    NaN            NaN   \n",
       "2        NaN                    NaN  Female    NaN            NaN   \n",
       "3        NaN  Less than high school     NaN    NaN            NaN   \n",
       "4        NaN   High school graduate     NaN    NaN            NaN   \n",
       "\n",
       "                               GeoLocation StratificationCategory1  \\\n",
       "0  (32.84057112200048, -86.63186076199969)                   Total   \n",
       "1  (32.84057112200048, -86.63186076199969)                  Gender   \n",
       "2  (32.84057112200048, -86.63186076199969)                  Gender   \n",
       "3  (32.84057112200048, -86.63186076199969)               Education   \n",
       "4  (32.84057112200048, -86.63186076199969)               Education   \n",
       "\n",
       "         Stratification1  \n",
       "0                  Total  \n",
       "1                   Male  \n",
       "2                 Female  \n",
       "3  Less than high school  \n",
       "4   High school graduate  "
      ]
     },
     "execution_count": 11,
     "metadata": {},
     "output_type": "execute_result"
    }
   ],
   "source": [
    "df_new.head()"
   ]
  },
  {
   "cell_type": "code",
   "execution_count": 12,
   "id": "3a67ccb9-9a43-4e20-a8ba-1039514e8fdc",
   "metadata": {},
   "outputs": [
    {
     "data": {
      "text/plain": [
       "31.15668100773583"
      ]
     },
     "execution_count": 12,
     "metadata": {},
     "output_type": "execute_result"
    }
   ],
   "source": [
    "df['Data_Value'].mean()"
   ]
  },
  {
   "cell_type": "code",
   "execution_count": 13,
   "id": "6a5c5f7f-6ac7-45c6-8f39-dc84ec95e41d",
   "metadata": {},
   "outputs": [
    {
     "data": {
      "image/png": "[encoded data removed]",
      "text/plain": [
       "<Figure size 432x288 with 1 Axes>"
      ]
     },
     "metadata": {
      "needs_background": "light"
     },
     "output_type": "display_data"
    }
   ],
   "source": [
    "plt.scatter(df['YearEnd'], df['Data_Value']);"
   ]
  },
  {
   "cell_type": "code",
   "execution_count": 14,
   "id": "21ead707-0150-4bcd-a81d-f580c31ef4ae",
   "metadata": {},
   "outputs": [
    {
     "data": {
      "image/png": "[encoded data removed]",
      "text/plain": [
       "<Figure size 432x288 with 1 Axes>"
      ]
     },
     "metadata": {
      "needs_background": "light"
     },
     "output_type": "display_data"
    }
   ],
   "source": [
    "plt.hist(df['Data_Value']);"
   ]
  },
  {
   "cell_type": "code",
   "execution_count": 15,
   "id": "475743aa-627f-402f-80c5-dd9f2e0369a2",
   "metadata": {},
   "outputs": [
    {
     "name": "stderr",
     "output_type": "stream",
     "text": [
      "C:\\Users\\rmped\\AppData\\Local\\Temp\\ipykernel_8616\\12795041.py:2: FutureWarning: The default value of regex will change from True to False in a future version.\n",
      "  df['GeoLocation'] = df['GeoLocation'].str.replace(r'[()]', '')\n"
     ]
    }
   ],
   "source": [
    "import re\n",
    "df['GeoLocation'] = df['GeoLocation'].str.replace(r'[()]', '')"
   ]
  },
  {
   "cell_type": "code",
   "execution_count": 30,
   "id": "9ab44814-a5ec-4a2b-a6cd-69b8d673e387",
   "metadata": {},
   "outputs": [],
   "source": [
    "df['GeoLocation'].fillna('0, 0', inplace=True)"
   ]
  },
  {
   "cell_type": "code",
   "execution_count": 37,
   "id": "de399053-2829-4643-b4d4-08553a86b13b",
   "metadata": {},
   "outputs": [],
   "source": [
    "\n",
    "lat = [float(df['GeoLocation'][i].split(',')[0]) for i in range(len(df['GeoLocation']))]\n",
    "long = [float(df['GeoLocation'][i].split(',')[1]) for i in range(len(df['GeoLocation']))]\n",
    "    \n",
    "df['lat'] = lat\n",
    "df['long'] = long"
   ]
  },
  {
   "cell_type": "code",
   "execution_count": 29,
   "id": "de69040b-8891-43ad-998c-43e9b8986b30",
   "metadata": {},
   "outputs": [
    {
     "data": {
      "text/plain": [
       "'32.84057112200048, -86.63186076199969'"
      ]
     },
     "execution_count": 29,
     "metadata": {},
     "output_type": "execute_result"
    }
   ],
   "source": [
    "df['GeoLocation'][0]"
   ]
  },
  {
   "cell_type": "code",
   "execution_count": null,
   "id": "7bf50460-bd80-4f78-96ee-1568e5b310f2",
   "metadata": {},
   "outputs": [],
   "source": [
    "df['Question']"
   ]
  },
  {
   "cell_type": "code",
   "execution_count": 51,
   "id": "3c8e6c51-bf68-41af-9bb5-6b147182121e",
   "metadata": {},
   "outputs": [
    {
     "data": {
      "image/png": "[encoded data removed]",
      "text/plain": [
       "<Figure size 1440x720 with 2 Axes>"
      ]
     },
     "metadata": {
      "needs_background": "light"
     },
     "output_type": "display_data"
    }
   ],
   "source": [
    "# Change long and lat to geolocation from data\n",
    "df.plot(kind=\"scatter\", x=\"long\", y=\"lat\", c=\"Data_Value\",\n",
    "         cmap=\"RdYlGn\", figsize=(20, 10), s = 100)\n",
    "plt.ylim([25, 50])\n",
    "plt.xlim([-150, -50]);"
   ]
  },
  {
   "cell_type": "code",
   "execution_count": 35,
   "id": "b130f83d-a08a-4dba-9375-fe3b4b84e434",
   "metadata": {},
   "outputs": [
    {
     "data": {
      "text/plain": [
       "YearStart                       int64\n",
       "YearEnd                         int64\n",
       "LocationAbbr                   object\n",
       "LocationDesc                   object\n",
       "Datasource                     object\n",
       "Class                          object\n",
       "Topic                          object\n",
       "Question                       object\n",
       "Data_Value_Unit               float64\n",
       "Data_Value_Type                object\n",
       "Data_Value                    float64\n",
       "Data_Value_Alt                float64\n",
       "Data_Value_Footnote_Symbol     object\n",
       "Data_Value_Footnote            object\n",
       "Low_Confidence_Limit          float64\n",
       "High_Confidence_Limit         float64\n",
       "Sample_Size                   float64\n",
       "Total                          object\n",
       "Age(years)                     object\n",
       "Education                      object\n",
       "Gender                         object\n",
       "Income                         object\n",
       "Race/Ethnicity                 object\n",
       "GeoLocation                    object\n",
       "ClassID                        object\n",
       "TopicID                        object\n",
       "QuestionID                     object\n",
       "DataValueTypeID                object\n",
       "LocationID                      int64\n",
       "StratificationCategory1        object\n",
       "Stratification1                object\n",
       "StratificationCategoryId1      object\n",
       "StratificationID1              object\n",
       "lat                            object\n",
       "long                           object\n",
       "dtype: object"
      ]
     },
     "execution_count": 35,
     "metadata": {},
     "output_type": "execute_result"
    }
   ],
   "source": [
    "df.dtypes"
   ]
  },
  {
   "cell_type": "code",
   "execution_count": 39,
   "id": "18f0bf9a-b2fb-4c79-9301-dda57a1bc4f7",
   "metadata": {},
   "outputs": [
    {
     "data": {
      "text/plain": [
       "count    53392.000000\n",
       "mean       -89.466253\n",
       "std         30.741408\n",
       "min       -157.857749\n",
       "25%       -100.373531\n",
       "50%        -88.997710\n",
       "75%        -77.860700\n",
       "max        144.793731\n",
       "Name: long, dtype: float64"
      ]
     },
     "execution_count": 39,
     "metadata": {},
     "output_type": "execute_result"
    }
   ],
   "source": [
    "df['long'].describe()"
   ]
  },
  {
   "cell_type": "code",
   "execution_count": null,
   "id": "55737f3e-5beb-44fe-8a95-3f96259d04a6",
   "metadata": {},
   "outputs": [],
   "source": []
  }
 ],
 "metadata": {
  "kernelspec": {
   "display_name": "Python 3 (ipykernel)",
   "language": "python",
   "name": "python3"
  },
  "language_info": {
   "codemirror_mode": {
    "name": "ipython",
    "version": 3
   },
   "file_extension": ".py",
   "mimetype": "text/x-python",
   "name": "python",
   "nbconvert_exporter": "python",
   "pygments_lexer": "ipython3",
   "version": "3.8.13"
  }
 },
 "nbformat": 4,
 "nbformat_minor": 5
}
