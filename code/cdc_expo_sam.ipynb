{
 "cells": [
  {
   "cell_type": "code",
   "execution_count": 1,
   "id": "5564d340-f431-4e16-862b-26fc12ee9cb3",
   "metadata": {},
   "outputs": [],
   "source": [
    "# Imports\n",
    "import pandas as pd\n",
    "import numpy as np\n",
    "\n",
    "import matplotlib.pyplot as plt\n",
    "import seaborn as sns"
   ]
  },
  {
   "cell_type": "code",
   "execution_count": 3,
   "id": "cb7b0792-3893-41d8-9cfd-2ffc63a22d72",
   "metadata": {},
   "outputs": [],
   "source": [
    "df = pd.read_csv('../data/cleaned_cdc.csv')"
   ]
  },
  {
   "cell_type": "code",
   "execution_count": 4,
   "id": "7aa69035-608b-4380-8051-97c5479faf24",
   "metadata": {},
   "outputs": [
    {
     "data": {
      "text/html": [
       "<div>\n",
       "<style scoped>\n",
       "    .dataframe tbody tr th:only-of-type {\n",
       "        vertical-align: middle;\n",
       "    }\n",
       "\n",
       "    .dataframe tbody tr th {\n",
       "        vertical-align: top;\n",
       "    }\n",
       "\n",
       "    .dataframe thead th {\n",
       "        text-align: right;\n",
       "    }\n",
       "</style>\n",
       "<table border=\"1\" class=\"dataframe\">\n",
       "  <thead>\n",
       "    <tr style=\"text-align: right;\">\n",
       "      <th></th>\n",
       "      <th>YearStart</th>\n",
       "      <th>LocationAbbr</th>\n",
       "      <th>LocationDesc</th>\n",
       "      <th>Data_Value</th>\n",
       "      <th>Sample_Size</th>\n",
       "      <th>GeoLocation</th>\n",
       "      <th>QuestionID</th>\n",
       "      <th>StratificationCategoryId1</th>\n",
       "      <th>StratificationID1</th>\n",
       "    </tr>\n",
       "  </thead>\n",
       "  <tbody>\n",
       "    <tr>\n",
       "      <th>0</th>\n",
       "      <td>2011</td>\n",
       "      <td>AL</td>\n",
       "      <td>Alabama</td>\n",
       "      <td>32.0</td>\n",
       "      <td>7304.0</td>\n",
       "      <td>(32.84057112200048, -86.63186076199969)</td>\n",
       "      <td>Q036</td>\n",
       "      <td>OVR</td>\n",
       "      <td>OVERALL</td>\n",
       "    </tr>\n",
       "    <tr>\n",
       "      <th>1</th>\n",
       "      <td>2011</td>\n",
       "      <td>AL</td>\n",
       "      <td>Alabama</td>\n",
       "      <td>32.3</td>\n",
       "      <td>2581.0</td>\n",
       "      <td>(32.84057112200048, -86.63186076199969)</td>\n",
       "      <td>Q036</td>\n",
       "      <td>GEN</td>\n",
       "      <td>MALE</td>\n",
       "    </tr>\n",
       "    <tr>\n",
       "      <th>2</th>\n",
       "      <td>2011</td>\n",
       "      <td>AL</td>\n",
       "      <td>Alabama</td>\n",
       "      <td>31.8</td>\n",
       "      <td>4723.0</td>\n",
       "      <td>(32.84057112200048, -86.63186076199969)</td>\n",
       "      <td>Q036</td>\n",
       "      <td>GEN</td>\n",
       "      <td>FEMALE</td>\n",
       "    </tr>\n",
       "    <tr>\n",
       "      <th>3</th>\n",
       "      <td>2011</td>\n",
       "      <td>AL</td>\n",
       "      <td>Alabama</td>\n",
       "      <td>33.6</td>\n",
       "      <td>1153.0</td>\n",
       "      <td>(32.84057112200048, -86.63186076199969)</td>\n",
       "      <td>Q036</td>\n",
       "      <td>EDU</td>\n",
       "      <td>EDUHS</td>\n",
       "    </tr>\n",
       "    <tr>\n",
       "      <th>4</th>\n",
       "      <td>2011</td>\n",
       "      <td>AL</td>\n",
       "      <td>Alabama</td>\n",
       "      <td>32.8</td>\n",
       "      <td>2402.0</td>\n",
       "      <td>(32.84057112200048, -86.63186076199969)</td>\n",
       "      <td>Q036</td>\n",
       "      <td>EDU</td>\n",
       "      <td>EDUHSGRAD</td>\n",
       "    </tr>\n",
       "  </tbody>\n",
       "</table>\n",
       "</div>"
      ],
      "text/plain": [
       "   YearStart LocationAbbr LocationDesc  Data_Value  Sample_Size  \\\n",
       "0       2011           AL      Alabama        32.0       7304.0   \n",
       "1       2011           AL      Alabama        32.3       2581.0   \n",
       "2       2011           AL      Alabama        31.8       4723.0   \n",
       "3       2011           AL      Alabama        33.6       1153.0   \n",
       "4       2011           AL      Alabama        32.8       2402.0   \n",
       "\n",
       "                               GeoLocation QuestionID  \\\n",
       "0  (32.84057112200048, -86.63186076199969)       Q036   \n",
       "1  (32.84057112200048, -86.63186076199969)       Q036   \n",
       "2  (32.84057112200048, -86.63186076199969)       Q036   \n",
       "3  (32.84057112200048, -86.63186076199969)       Q036   \n",
       "4  (32.84057112200048, -86.63186076199969)       Q036   \n",
       "\n",
       "  StratificationCategoryId1 StratificationID1  \n",
       "0                       OVR           OVERALL  \n",
       "1                       GEN              MALE  \n",
       "2                       GEN            FEMALE  \n",
       "3                       EDU             EDUHS  \n",
       "4                       EDU         EDUHSGRAD  "
      ]
     },
     "execution_count": 4,
     "metadata": {},
     "output_type": "execute_result"
    }
   ],
   "source": [
    "df.head()"
   ]
  },
  {
   "cell_type": "code",
   "execution_count": 5,
   "id": "8e66e3a0-cff6-4bb4-a25d-4ebf1efe5725",
   "metadata": {},
   "outputs": [
    {
     "data": {
      "text/plain": [
       "(51404, 9)"
      ]
     },
     "execution_count": 5,
     "metadata": {},
     "output_type": "execute_result"
    }
   ],
   "source": [
    "df.shape"
   ]
  },
  {
   "cell_type": "code",
   "execution_count": 6,
   "id": "4edbf125-1f40-4218-83c3-6a632d4ac420",
   "metadata": {},
   "outputs": [
    {
     "data": {
      "text/plain": [
       "YearStart                       0\n",
       "LocationAbbr                    0\n",
       "LocationDesc                    0\n",
       "Data_Value                      0\n",
       "Sample_Size                  4867\n",
       "GeoLocation                     0\n",
       "QuestionID                      0\n",
       "StratificationCategoryId1       0\n",
       "StratificationID1               0\n",
       "dtype: int64"
      ]
     },
     "execution_count": 6,
     "metadata": {},
     "output_type": "execute_result"
    }
   ],
   "source": [
    "df.isnull().sum()"
   ]
  },
  {
   "cell_type": "code",
   "execution_count": 8,
   "id": "b82ae8c9-276b-499d-8081-66718796b8cc",
   "metadata": {},
   "outputs": [
    {
     "data": {
      "text/plain": [
       "Index(['YearStart', 'LocationAbbr', 'LocationDesc', 'Data_Value',\n",
       "       'Sample_Size', 'GeoLocation', 'QuestionID', 'StratificationCategoryId1',\n",
       "       'StratificationID1'],\n",
       "      dtype='object')"
      ]
     },
     "execution_count": 8,
     "metadata": {},
     "output_type": "execute_result"
    }
   ],
   "source": [
    "df.columns"
   ]
  },
  {
   "cell_type": "code",
   "execution_count": 10,
   "id": "3a67ccb9-9a43-4e20-a8ba-1039514e8fdc",
   "metadata": {},
   "outputs": [
    {
     "data": {
      "text/plain": [
       "31.276000311260194"
      ]
     },
     "execution_count": 10,
     "metadata": {},
     "output_type": "execute_result"
    }
   ],
   "source": [
    "df['Data_Value'].mean()"
   ]
  },
  {
   "cell_type": "code",
   "execution_count": 12,
   "id": "6a5c5f7f-6ac7-45c6-8f39-dc84ec95e41d",
   "metadata": {},
   "outputs": [
    {
     "data": {
      "image/png": "[encoded data removed]",
      "text/plain": [
       "<Figure size 432x288 with 1 Axes>"
      ]
     },
     "metadata": {
      "needs_background": "light"
     },
     "output_type": "display_data"
    }
   ],
   "source": [
    "plt.scatter(df['YearStart'], df['Data_Value']);"
   ]
  },
  {
   "cell_type": "code",
   "execution_count": 13,
   "id": "21ead707-0150-4bcd-a81d-f580c31ef4ae",
   "metadata": {},
   "outputs": [
    {
     "data": {
      "image/png": "[encoded data removed]",
      "text/plain": [
       "<Figure size 432x288 with 1 Axes>"
      ]
     },
     "metadata": {
      "needs_background": "light"
     },
     "output_type": "display_data"
    }
   ],
   "source": [
    "plt.hist(df['Data_Value']);"
   ]
  },
  {
   "cell_type": "code",
   "execution_count": 14,
   "id": "475743aa-627f-402f-80c5-dd9f2e0369a2",
   "metadata": {},
   "outputs": [
    {
     "name": "stderr",
     "output_type": "stream",
     "text": [
      "C:\\Users\\sbhew\\AppData\\Local\\Temp\\ipykernel_10292\\12795041.py:2: FutureWarning: The default value of regex will change from True to False in a future version.\n",
      "  df['GeoLocation'] = df['GeoLocation'].str.replace(r'[()]', '')\n"
     ]
    }
   ],
   "source": [
    "import re\n",
    "df['GeoLocation'] = df['GeoLocation'].str.replace(r'[()]', '')"
   ]
  },
  {
   "cell_type": "code",
   "execution_count": 15,
   "id": "9ab44814-a5ec-4a2b-a6cd-69b8d673e387",
   "metadata": {},
   "outputs": [],
   "source": [
    "df['GeoLocation'].fillna('0, 0', inplace=True)"
   ]
  },
  {
   "cell_type": "code",
   "execution_count": 16,
   "id": "de399053-2829-4643-b4d4-08553a86b13b",
   "metadata": {},
   "outputs": [],
   "source": [
    "\n",
    "lat = [float(df['GeoLocation'][i].split(',')[0]) for i in range(len(df['GeoLocation']))]\n",
    "long = [float(df['GeoLocation'][i].split(',')[1]) for i in range(len(df['GeoLocation']))]\n",
    "    \n",
    "df['lat'] = lat\n",
    "df['long'] = long"
   ]
  },
  {
   "cell_type": "code",
   "execution_count": 17,
   "id": "de69040b-8891-43ad-998c-43e9b8986b30",
   "metadata": {},
   "outputs": [
    {
     "data": {
      "text/plain": [
       "'32.84057112200048, -86.63186076199969'"
      ]
     },
     "execution_count": 17,
     "metadata": {},
     "output_type": "execute_result"
    }
   ],
   "source": [
    "df['GeoLocation'][0]"
   ]
  },
  {
   "cell_type": "code",
   "execution_count": 19,
   "id": "7bf50460-bd80-4f78-96ee-1568e5b310f2",
   "metadata": {},
   "outputs": [
    {
     "data": {
      "text/plain": [
       "Q036    8568\n",
       "Q037    8568\n",
       "Q047    8568\n",
       "Q019    4284\n",
       "Q046    4284\n",
       "Q043    4284\n",
       "Q044    4284\n",
       "Q045    4284\n",
       "Q018    4280\n",
       "Name: QuestionID, dtype: int64"
      ]
     },
     "execution_count": 19,
     "metadata": {},
     "output_type": "execute_result"
    }
   ],
   "source": [
    "df['QuestionID'].value_counts()"
   ]
  },
  {
   "cell_type": "code",
   "execution_count": 20,
   "id": "3c8e6c51-bf68-41af-9bb5-6b147182121e",
   "metadata": {},
   "outputs": [
    {
     "data": {
      "image/png": "[encoded data removed]",
      "text/plain": [
       "<Figure size 1440x720 with 2 Axes>"
      ]
     },
     "metadata": {
      "needs_background": "light"
     },
     "output_type": "display_data"
    }
   ],
   "source": [
    "# Change long and lat to geolocation from data\n",
    "df.plot(kind=\"scatter\", x=\"long\", y=\"lat\", c=\"Data_Value\",\n",
    "         cmap=\"RdYlGn\", figsize=(20, 10), s = 100)\n",
    "plt.ylim([25, 50])\n",
    "plt.xlim([-150, -50]);"
   ]
  },
  {
   "cell_type": "code",
   "execution_count": 21,
   "id": "b130f83d-a08a-4dba-9375-fe3b4b84e434",
   "metadata": {},
   "outputs": [
    {
     "data": {
      "text/plain": [
       "YearStart                      int64\n",
       "LocationAbbr                  object\n",
       "LocationDesc                  object\n",
       "Data_Value                   float64\n",
       "Sample_Size                  float64\n",
       "GeoLocation                   object\n",
       "QuestionID                    object\n",
       "StratificationCategoryId1     object\n",
       "StratificationID1             object\n",
       "lat                          float64\n",
       "long                         float64\n",
       "dtype: object"
      ]
     },
     "execution_count": 21,
     "metadata": {},
     "output_type": "execute_result"
    }
   ],
   "source": [
    "df.dtypes"
   ]
  },
  {
   "cell_type": "code",
   "execution_count": 22,
   "id": "18f0bf9a-b2fb-4c79-9301-dda57a1bc4f7",
   "metadata": {},
   "outputs": [
    {
     "data": {
      "text/plain": [
       "count    51404.000000\n",
       "mean       -93.386650\n",
       "std         18.842217\n",
       "min       -157.857749\n",
       "25%       -106.133611\n",
       "50%        -89.538031\n",
       "75%        -78.457890\n",
       "max        -68.985031\n",
       "Name: long, dtype: float64"
      ]
     },
     "execution_count": 22,
     "metadata": {},
     "output_type": "execute_result"
    }
   ],
   "source": [
    "df['long'].describe()"
   ]
  },
  {
   "cell_type": "code",
   "execution_count": 23,
   "id": "55737f3e-5beb-44fe-8a95-3f96259d04a6",
   "metadata": {},
   "outputs": [
    {
     "ename": "ModuleNotFoundError",
     "evalue": "No module named 'geopandas'",
     "output_type": "error",
     "traceback": [
      "\u001b[1;31m---------------------------------------------------------------------------\u001b[0m",
      "\u001b[1;31mModuleNotFoundError\u001b[0m                       Traceback (most recent call last)",
      "Input \u001b[1;32mIn [23]\u001b[0m, in \u001b[0;36m<cell line: 1>\u001b[1;34m()\u001b[0m\n\u001b[1;32m----> 1\u001b[0m \u001b[38;5;28;01mimport\u001b[39;00m \u001b[38;5;21;01mgeopandas\u001b[39;00m \u001b[38;5;28;01mas\u001b[39;00m \u001b[38;5;21;01mgpd\u001b[39;00m\n\u001b[0;32m      2\u001b[0m \u001b[38;5;28;01mimport\u001b[39;00m \u001b[38;5;21;01mmatplotlib\u001b[39;00m\u001b[38;5;21;01m.\u001b[39;00m\u001b[38;5;21;01mpyplot\u001b[39;00m \u001b[38;5;28;01mas\u001b[39;00m \u001b[38;5;21;01mplt\u001b[39;00m\n\u001b[0;32m      3\u001b[0m \u001b[38;5;28;01mimport\u001b[39;00m \u001b[38;5;21;01mpandas\u001b[39;00m \u001b[38;5;28;01mas\u001b[39;00m \u001b[38;5;21;01mpd\u001b[39;00m\n",
      "\u001b[1;31mModuleNotFoundError\u001b[0m: No module named 'geopandas'"
     ]
    }
   ],
   "source": [
    "import geopandas as gpd\n",
    "import matplotlib.pyplot as plt\n",
    "import pandas as pd\n",
    "\n",
    "from shapely.geometry import Point\n",
    "\n",
    "%matplotlib inline"
   ]
  },
  {
   "cell_type": "code",
   "execution_count": 24,
   "id": "99a968e9-3d75-484a-8240-6548b3cf2601",
   "metadata": {},
   "outputs": [
    {
     "name": "stdout",
     "output_type": "stream",
     "text": [
      "Collecting geopandas\n",
      "  Using cached geopandas-0.11.0-py3-none-any.whl (1.0 MB)\n",
      "Requirement already satisfied: shapely<2,>=1.7 in c:\\users\\sbhew\\anaconda3\\lib\\site-packages (from geopandas) (1.8.2)\n",
      "Requirement already satisfied: packaging in c:\\users\\sbhew\\anaconda3\\lib\\site-packages (from geopandas) (21.3)\n",
      "Requirement already satisfied: pandas>=1.0.0 in c:\\users\\sbhew\\anaconda3\\lib\\site-packages (from geopandas) (1.4.2)\n",
      "Collecting fiona>=1.8\n",
      "  Using cached Fiona-1.8.21.tar.gz (1.0 MB)\n",
      "  Using cached Fiona-1.8.20.tar.gz (1.3 MB)\n",
      "  Using cached Fiona-1.8.19.tar.gz (1.3 MB)\n",
      "  Using cached Fiona-1.8.18.tar.gz (1.3 MB)\n",
      "  Using cached Fiona-1.8.17.tar.gz (1.3 MB)\n",
      "  Using cached Fiona-1.8.16.tar.gz (1.3 MB)\n",
      "  Using cached Fiona-1.8.15.tar.gz (1.3 MB)\n",
      "  Using cached Fiona-1.8.14.tar.gz (1.3 MB)\n",
      "  Using cached Fiona-1.8.13.post1.tar.gz (1.2 MB)\n",
      "  Using cached Fiona-1.8.13.tar.gz (1.2 MB)\n",
      "  Using cached Fiona-1.8.12.tar.gz (1.2 MB)\n",
      "  Using cached Fiona-1.8.11.tar.gz (1.2 MB)\n",
      "  Using cached Fiona-1.8.10.tar.gz (1.2 MB)\n",
      "  Using cached Fiona-1.8.9.post2.tar.gz (1.2 MB)\n",
      "  Using cached Fiona-1.8.9.post1.tar.gz (1.2 MB)\n",
      "  Using cached Fiona-1.8.9.tar.gz (1.2 MB)\n",
      "  Using cached Fiona-1.8.8.tar.gz (1.7 MB)\n",
      "  Using cached Fiona-1.8.7.tar.gz (1.7 MB)\n",
      "  Using cached Fiona-1.8.6.tar.gz (1.7 MB)\n",
      "  Using cached Fiona-1.8.5.tar.gz (1.7 MB)\n",
      "  Using cached Fiona-1.8.4.tar.gz (1.1 MB)\n",
      "  Using cached Fiona-1.8.3.tar.gz (1.1 MB)\n",
      "  Using cached Fiona-1.8.2.tar.gz (1.2 MB)\n",
      "  Using cached Fiona-1.8.1.tar.gz (1.1 MB)\n",
      "  Using cached Fiona-1.8.0.tar.gz (1.4 MB)\n",
      "Collecting geopandas\n",
      "  Using cached geopandas-0.10.2-py2.py3-none-any.whl (1.0 MB)\n",
      "Requirement already satisfied: pyproj>=2.2.0 in c:\\users\\sbhew\\anaconda3\\lib\\site-packages (from geopandas) (3.3.1)\n",
      "  Using cached geopandas-0.10.1-py2.py3-none-any.whl (1.0 MB)\n",
      "  Using cached geopandas-0.10.0-py2.py3-none-any.whl (1.0 MB)\n",
      "  Using cached geopandas-0.9.0-py2.py3-none-any.whl (994 kB)\n",
      "  Using cached geopandas-0.8.2-py2.py3-none-any.whl (962 kB)\n",
      "Collecting fiona\n",
      "  Using cached Fiona-1.7.13.tar.gz (731 kB)\n",
      "Requirement already satisfied: numpy>=1.18.5 in c:\\users\\sbhew\\anaconda3\\lib\\site-packages (from pandas>=1.0.0->geopandas) (1.21.5)\n",
      "Requirement already satisfied: pytz>=2020.1 in c:\\users\\sbhew\\anaconda3\\lib\\site-packages (from pandas>=1.0.0->geopandas) (2021.3)\n",
      "Requirement already satisfied: python-dateutil>=2.8.1 in c:\\users\\sbhew\\anaconda3\\lib\\site-packages (from pandas>=1.0.0->geopandas) (2.8.2)\n",
      "Requirement already satisfied: certifi in c:\\users\\sbhew\\anaconda3\\lib\\site-packages (from pyproj>=2.2.0->geopandas) (2021.10.8)\n",
      "Requirement already satisfied: six>=1.5 in c:\\users\\sbhew\\anaconda3\\lib\\site-packages (from python-dateutil>=2.8.1->pandas>=1.0.0->geopandas) (1.16.0)\n",
      "Requirement already satisfied: cligj>=0.4 in c:\\users\\sbhew\\anaconda3\\lib\\site-packages (from fiona->geopandas) (0.7.2)\n",
      "Requirement already satisfied: click-plugins in c:\\users\\sbhew\\anaconda3\\lib\\site-packages (from fiona->geopandas) (1.1.1)\n",
      "Requirement already satisfied: munch in c:\\users\\sbhew\\anaconda3\\lib\\site-packages (from fiona->geopandas) (2.5.0)\n",
      "Requirement already satisfied: click>=4.0 in c:\\users\\sbhew\\anaconda3\\lib\\site-packages (from cligj>=0.4->fiona->geopandas) (8.0.4)\n",
      "Requirement already satisfied: colorama in c:\\users\\sbhew\\anaconda3\\lib\\site-packages (from click>=4.0->cligj>=0.4->fiona->geopandas) (0.4.4)\n",
      "Building wheels for collected packages: fiona\n",
      "  Building wheel for fiona (setup.py): started\n",
      "  Building wheel for fiona (setup.py): finished with status 'error'\n",
      "  Running setup.py clean for fiona\n",
      "Failed to build fiona\n",
      "Installing collected packages: fiona, geopandas\n",
      "    Running setup.py install for fiona: started\n",
      "    Running setup.py install for fiona: finished with status 'error'\n",
      "Note: you may need to restart the kernel to use updated packages.\n"
     ]
    },
    {
     "name": "stderr",
     "output_type": "stream",
     "text": [
      "    ERROR: Command errored out with exit status 1:\n",
      "     command: 'C:\\Users\\sbhew\\anaconda3\\python.exe' -c 'import io, os, sys, setuptools, tokenize; sys.argv[0] = '\"'\"'C:\\\\Users\\\\sbhew\\\\AppData\\\\Local\\\\Temp\\\\pip-install-vaq8d3il\\\\fiona_dda81f1ef6684064b29f1cbb93921fae\\\\setup.py'\"'\"'; __file__='\"'\"'C:\\\\Users\\\\sbhew\\\\AppData\\\\Local\\\\Temp\\\\pip-install-vaq8d3il\\\\fiona_dda81f1ef6684064b29f1cbb93921fae\\\\setup.py'\"'\"';f = getattr(tokenize, '\"'\"'open'\"'\"', open)(__file__) if os.path.exists(__file__) else io.StringIO('\"'\"'from setuptools import setup; setup()'\"'\"');code = f.read().replace('\"'\"'\\r\\n'\"'\"', '\"'\"'\\n'\"'\"');f.close();exec(compile(code, __file__, '\"'\"'exec'\"'\"'))' egg_info --egg-base 'C:\\Users\\sbhew\\AppData\\Local\\Temp\\pip-pip-egg-info-g9l2tkg2'\n",
      "         cwd: C:\\Users\\sbhew\\AppData\\Local\\Temp\\pip-install-vaq8d3il\\fiona_dda81f1ef6684064b29f1cbb93921fae\\\n",
      "    Complete output (1 lines):\n",
      "    A GDAL API version must be specified. Provide a path to gdal-config using a GDAL_CONFIG environment variable or use a GDAL_VERSION environment variable.\n",
      "    ----------------------------------------\n",
      "WARNING: Discarding https://files.pythonhosted.org/packages/67/5c/4e028e84a1f0cb3f8a994217cf2366360ca984dfc1433f6171de527d0dca/Fiona-1.8.21.tar.gz#sha256=3a0edca2a7a070db405d71187214a43d2333a57b4097544a3fcc282066a58bfc (from https://pypi.org/simple/fiona/). Command errored out with exit status 1: python setup.py egg_info Check the logs for full command output.\n",
      "    ERROR: Command errored out with exit status 1:\n",
      "     command: 'C:\\Users\\sbhew\\anaconda3\\python.exe' -c 'import io, os, sys, setuptools, tokenize; sys.argv[0] = '\"'\"'C:\\\\Users\\\\sbhew\\\\AppData\\\\Local\\\\Temp\\\\pip-install-vaq8d3il\\\\fiona_bf41b1db7f1649c39a906a953bb82232\\\\setup.py'\"'\"'; __file__='\"'\"'C:\\\\Users\\\\sbhew\\\\AppData\\\\Local\\\\Temp\\\\pip-install-vaq8d3il\\\\fiona_bf41b1db7f1649c39a906a953bb82232\\\\setup.py'\"'\"';f = getattr(tokenize, '\"'\"'open'\"'\"', open)(__file__) if os.path.exists(__file__) else io.StringIO('\"'\"'from setuptools import setup; setup()'\"'\"');code = f.read().replace('\"'\"'\\r\\n'\"'\"', '\"'\"'\\n'\"'\"');f.close();exec(compile(code, __file__, '\"'\"'exec'\"'\"'))' egg_info --egg-base 'C:\\Users\\sbhew\\AppData\\Local\\Temp\\pip-pip-egg-info-qezofqdp'\n",
      "         cwd: C:\\Users\\sbhew\\AppData\\Local\\Temp\\pip-install-vaq8d3il\\fiona_bf41b1db7f1649c39a906a953bb82232\\\n",
      "    Complete output (1 lines):\n",
      "    A GDAL API version must be specified. Provide a path to gdal-config using a GDAL_CONFIG environment variable or use a GDAL_VERSION environment variable.\n",
      "    ----------------------------------------\n",
      "WARNING: Discarding https://files.pythonhosted.org/packages/ec/f7/093890341a7e8fbfcdfa04caf4dfb588ebab32c13ceaa6a3819da79ea106/Fiona-1.8.20.tar.gz#sha256=a70502d2857b82f749c09cb0dea3726787747933a2a1599b5ab787d74e3c143b (from https://pypi.org/simple/fiona/). Command errored out with exit status 1: python setup.py egg_info Check the logs for full command output.\n",
      "    ERROR: Command errored out with exit status 1:\n",
      "     command: 'C:\\Users\\sbhew\\anaconda3\\python.exe' -c 'import io, os, sys, setuptools, tokenize; sys.argv[0] = '\"'\"'C:\\\\Users\\\\sbhew\\\\AppData\\\\Local\\\\Temp\\\\pip-install-vaq8d3il\\\\fiona_a78be350cc0a4c46a71bfce6fae2357d\\\\setup.py'\"'\"'; __file__='\"'\"'C:\\\\Users\\\\sbhew\\\\AppData\\\\Local\\\\Temp\\\\pip-install-vaq8d3il\\\\fiona_a78be350cc0a4c46a71bfce6fae2357d\\\\setup.py'\"'\"';f = getattr(tokenize, '\"'\"'open'\"'\"', open)(__file__) if os.path.exists(__file__) else io.StringIO('\"'\"'from setuptools import setup; setup()'\"'\"');code = f.read().replace('\"'\"'\\r\\n'\"'\"', '\"'\"'\\n'\"'\"');f.close();exec(compile(code, __file__, '\"'\"'exec'\"'\"'))' egg_info --egg-base 'C:\\Users\\sbhew\\AppData\\Local\\Temp\\pip-pip-egg-info-vff1ufd6'\n",
      "         cwd: C:\\Users\\sbhew\\AppData\\Local\\Temp\\pip-install-vaq8d3il\\fiona_a78be350cc0a4c46a71bfce6fae2357d\\\n",
      "    Complete output (1 lines):\n",
      "    A GDAL API version must be specified. Provide a path to gdal-config using a GDAL_CONFIG environment variable or use a GDAL_VERSION environment variable.\n",
      "    ----------------------------------------\n",
      "WARNING: Discarding https://files.pythonhosted.org/packages/a0/d9/6042aeb073d11341f7726de0586ff71c13117c34959dcf07bd4ee6d4b93e/Fiona-1.8.19.tar.gz#sha256=b9059e0b29c2e9e6b817e53f941e77e1aca7075f986005d38db307067b60458f (from https://pypi.org/simple/fiona/). Command errored out with exit status 1: python setup.py egg_info Check the logs for full command output.\n",
      "    ERROR: Command errored out with exit status 1:\n",
      "     command: 'C:\\Users\\sbhew\\anaconda3\\python.exe' -c 'import io, os, sys, setuptools, tokenize; sys.argv[0] = '\"'\"'C:\\\\Users\\\\sbhew\\\\AppData\\\\Local\\\\Temp\\\\pip-install-vaq8d3il\\\\fiona_1ae39835bd1e43cca74ba869968b66e4\\\\setup.py'\"'\"'; __file__='\"'\"'C:\\\\Users\\\\sbhew\\\\AppData\\\\Local\\\\Temp\\\\pip-install-vaq8d3il\\\\fiona_1ae39835bd1e43cca74ba869968b66e4\\\\setup.py'\"'\"';f = getattr(tokenize, '\"'\"'open'\"'\"', open)(__file__) if os.path.exists(__file__) else io.StringIO('\"'\"'from setuptools import setup; setup()'\"'\"');code = f.read().replace('\"'\"'\\r\\n'\"'\"', '\"'\"'\\n'\"'\"');f.close();exec(compile(code, __file__, '\"'\"'exec'\"'\"'))' egg_info --egg-base 'C:\\Users\\sbhew\\AppData\\Local\\Temp\\pip-pip-egg-info-qoatc0t8'\n",
      "         cwd: C:\\Users\\sbhew\\AppData\\Local\\Temp\\pip-install-vaq8d3il\\fiona_1ae39835bd1e43cca74ba869968b66e4\\\n",
      "    Complete output (1 lines):\n",
      "    A GDAL API version must be specified. Provide a path to gdal-config using a GDAL_CONFIG environment variable or use a GDAL_VERSION environment variable.\n",
      "    ----------------------------------------\n",
      "WARNING: Discarding https://files.pythonhosted.org/packages/9f/e8/401cdaa58d862a25c4b3365acf7d2bd7ac77191e3dc9acdcdac0eff20ff0/Fiona-1.8.18.tar.gz#sha256=b732ece0ff8886a29c439723a3e1fc382718804bb057519d537a81308854967a (from https://pypi.org/simple/fiona/). Command errored out with exit status 1: python setup.py egg_info Check the logs for full command output.\n",
      "    ERROR: Command errored out with exit status 1:\n",
      "     command: 'C:\\Users\\sbhew\\anaconda3\\python.exe' -c 'import io, os, sys, setuptools, tokenize; sys.argv[0] = '\"'\"'C:\\\\Users\\\\sbhew\\\\AppData\\\\Local\\\\Temp\\\\pip-install-vaq8d3il\\\\fiona_3f6cec8254ca42b9932207858bef59ff\\\\setup.py'\"'\"'; __file__='\"'\"'C:\\\\Users\\\\sbhew\\\\AppData\\\\Local\\\\Temp\\\\pip-install-vaq8d3il\\\\fiona_3f6cec8254ca42b9932207858bef59ff\\\\setup.py'\"'\"';f = getattr(tokenize, '\"'\"'open'\"'\"', open)(__file__) if os.path.exists(__file__) else io.StringIO('\"'\"'from setuptools import setup; setup()'\"'\"');code = f.read().replace('\"'\"'\\r\\n'\"'\"', '\"'\"'\\n'\"'\"');f.close();exec(compile(code, __file__, '\"'\"'exec'\"'\"'))' egg_info --egg-base 'C:\\Users\\sbhew\\AppData\\Local\\Temp\\pip-pip-egg-info-1tjxkf3j'\n",
      "         cwd: C:\\Users\\sbhew\\AppData\\Local\\Temp\\pip-install-vaq8d3il\\fiona_3f6cec8254ca42b9932207858bef59ff\\\n",
      "    Complete output (1 lines):\n",
      "    A GDAL API version must be specified. Provide a path to gdal-config using a GDAL_CONFIG environment variable or use a GDAL_VERSION environment variable.\n",
      "    ----------------------------------------\n",
      "WARNING: Discarding https://files.pythonhosted.org/packages/88/62/69347ba2c41b526e1953c4cb66d51170b2869808863c03af202ba0121670/Fiona-1.8.17.tar.gz#sha256=716201c21246587f374785bec6d6a20a984fe1f6c2b0e83bf15127eb8f724d0c (from https://pypi.org/simple/fiona/). Command errored out with exit status 1: python setup.py egg_info Check the logs for full command output.\n",
      "    ERROR: Command errored out with exit status 1:\n",
      "     command: 'C:\\Users\\sbhew\\anaconda3\\python.exe' -c 'import io, os, sys, setuptools, tokenize; sys.argv[0] = '\"'\"'C:\\\\Users\\\\sbhew\\\\AppData\\\\Local\\\\Temp\\\\pip-install-vaq8d3il\\\\fiona_e22a11da6fe14d2fa74b68b1f42c133d\\\\setup.py'\"'\"'; __file__='\"'\"'C:\\\\Users\\\\sbhew\\\\AppData\\\\Local\\\\Temp\\\\pip-install-vaq8d3il\\\\fiona_e22a11da6fe14d2fa74b68b1f42c133d\\\\setup.py'\"'\"';f = getattr(tokenize, '\"'\"'open'\"'\"', open)(__file__) if os.path.exists(__file__) else io.StringIO('\"'\"'from setuptools import setup; setup()'\"'\"');code = f.read().replace('\"'\"'\\r\\n'\"'\"', '\"'\"'\\n'\"'\"');f.close();exec(compile(code, __file__, '\"'\"'exec'\"'\"'))' egg_info --egg-base 'C:\\Users\\sbhew\\AppData\\Local\\Temp\\pip-pip-egg-info-la6nnvfj'\n",
      "         cwd: C:\\Users\\sbhew\\AppData\\Local\\Temp\\pip-install-vaq8d3il\\fiona_e22a11da6fe14d2fa74b68b1f42c133d\\\n",
      "    Complete output (1 lines):\n",
      "    A GDAL API version must be specified. Provide a path to gdal-config using a GDAL_CONFIG environment variable or use a GDAL_VERSION environment variable.\n",
      "    ----------------------------------------\n",
      "WARNING: Discarding https://files.pythonhosted.org/packages/1e/60/dfc6115a11338d8aa96cacd8c60635223d9c97d61d556c90acc5dfd663fa/Fiona-1.8.16.tar.gz#sha256=fd6dfb65959becc916e9f6928618bfd59c16cdbc413ece0fbac61489cd11255f (from https://pypi.org/simple/fiona/). Command errored out with exit status 1: python setup.py egg_info Check the logs for full command output.\n",
      "    ERROR: Command errored out with exit status 1:\n",
      "     command: 'C:\\Users\\sbhew\\anaconda3\\python.exe' -c 'import io, os, sys, setuptools, tokenize; sys.argv[0] = '\"'\"'C:\\\\Users\\\\sbhew\\\\AppData\\\\Local\\\\Temp\\\\pip-install-vaq8d3il\\\\fiona_068c288c1e0743719d10e95c3c6c1f38\\\\setup.py'\"'\"'; __file__='\"'\"'C:\\\\Users\\\\sbhew\\\\AppData\\\\Local\\\\Temp\\\\pip-install-vaq8d3il\\\\fiona_068c288c1e0743719d10e95c3c6c1f38\\\\setup.py'\"'\"';f = getattr(tokenize, '\"'\"'open'\"'\"', open)(__file__) if os.path.exists(__file__) else io.StringIO('\"'\"'from setuptools import setup; setup()'\"'\"');code = f.read().replace('\"'\"'\\r\\n'\"'\"', '\"'\"'\\n'\"'\"');f.close();exec(compile(code, __file__, '\"'\"'exec'\"'\"'))' egg_info --egg-base 'C:\\Users\\sbhew\\AppData\\Local\\Temp\\pip-pip-egg-info-as0nzh1o'\n",
      "         cwd: C:\\Users\\sbhew\\AppData\\Local\\Temp\\pip-install-vaq8d3il\\fiona_068c288c1e0743719d10e95c3c6c1f38\\\n",
      "    Complete output (1 lines):\n",
      "    A GDAL API version must be specified. Provide a path to gdal-config using a GDAL_CONFIG environment variable or use a GDAL_VERSION environment variable.\n",
      "    ----------------------------------------\n",
      "WARNING: Discarding https://files.pythonhosted.org/packages/55/2f/17450ec2c8fcc720a8a3e4d9a383499508475c7cfb90f7eca9fb585ac598/Fiona-1.8.15.tar.gz#sha256=3b1c9b5c834fae2fe947cfaea176db890bc6750d1a6ba9f54d969c19ffcd191e (from https://pypi.org/simple/fiona/). Command errored out with exit status 1: python setup.py egg_info Check the logs for full command output.\n",
      "    ERROR: Command errored out with exit status 1:\n",
      "     command: 'C:\\Users\\sbhew\\anaconda3\\python.exe' -c 'import io, os, sys, setuptools, tokenize; sys.argv[0] = '\"'\"'C:\\\\Users\\\\sbhew\\\\AppData\\\\Local\\\\Temp\\\\pip-install-vaq8d3il\\\\fiona_f91a482295894c2cb86150fdf61fb316\\\\setup.py'\"'\"'; __file__='\"'\"'C:\\\\Users\\\\sbhew\\\\AppData\\\\Local\\\\Temp\\\\pip-install-vaq8d3il\\\\fiona_f91a482295894c2cb86150fdf61fb316\\\\setup.py'\"'\"';f = getattr(tokenize, '\"'\"'open'\"'\"', open)(__file__) if os.path.exists(__file__) else io.StringIO('\"'\"'from setuptools import setup; setup()'\"'\"');code = f.read().replace('\"'\"'\\r\\n'\"'\"', '\"'\"'\\n'\"'\"');f.close();exec(compile(code, __file__, '\"'\"'exec'\"'\"'))' egg_info --egg-base 'C:\\Users\\sbhew\\AppData\\Local\\Temp\\pip-pip-egg-info-69ovgwmi'\n",
      "         cwd: C:\\Users\\sbhew\\AppData\\Local\\Temp\\pip-install-vaq8d3il\\fiona_f91a482295894c2cb86150fdf61fb316\\\n",
      "    Complete output (1 lines):\n",
      "    A GDAL API version must be specified. Provide a path to gdal-config using a GDAL_CONFIG environment variable or use a GDAL_VERSION environment variable.\n",
      "    ----------------------------------------\n",
      "WARNING: Discarding https://files.pythonhosted.org/packages/5c/fd/5ec54f2d9b3d5dd23dd443fad5630d6b872e2664814c68b856c47e0d65af/Fiona-1.8.14.tar.gz#sha256=6eac038206c89d2cf5f99ea38b81cc228dc21eac5f47870a9a32d453b0007f4d (from https://pypi.org/simple/fiona/). Command errored out with exit status 1: python setup.py egg_info Check the logs for full command output.\n",
      "    ERROR: Command errored out with exit status 1:\n",
      "     command: 'C:\\Users\\sbhew\\anaconda3\\python.exe' -c 'import io, os, sys, setuptools, tokenize; sys.argv[0] = '\"'\"'C:\\\\Users\\\\sbhew\\\\AppData\\\\Local\\\\Temp\\\\pip-install-vaq8d3il\\\\fiona_7bbf612e6313409c919b4f38d3fa68b8\\\\setup.py'\"'\"'; __file__='\"'\"'C:\\\\Users\\\\sbhew\\\\AppData\\\\Local\\\\Temp\\\\pip-install-vaq8d3il\\\\fiona_7bbf612e6313409c919b4f38d3fa68b8\\\\setup.py'\"'\"';f = getattr(tokenize, '\"'\"'open'\"'\"', open)(__file__) if os.path.exists(__file__) else io.StringIO('\"'\"'from setuptools import setup; setup()'\"'\"');code = f.read().replace('\"'\"'\\r\\n'\"'\"', '\"'\"'\\n'\"'\"');f.close();exec(compile(code, __file__, '\"'\"'exec'\"'\"'))' egg_info --egg-base 'C:\\Users\\sbhew\\AppData\\Local\\Temp\\pip-pip-egg-info-l7w728wh'\n",
      "         cwd: C:\\Users\\sbhew\\AppData\\Local\\Temp\\pip-install-vaq8d3il\\fiona_7bbf612e6313409c919b4f38d3fa68b8\\\n",
      "    Complete output (1 lines):\n",
      "    A GDAL API version must be specified. Provide a path to gdal-config using a GDAL_CONFIG environment variable or use a GDAL_VERSION environment variable.\n",
      "    ----------------------------------------\n",
      "WARNING: Discarding https://files.pythonhosted.org/packages/6d/42/f4a7cac53b28fa70e9a93d0e89a24d33e14826dad6644b699362ad84dde0/Fiona-1.8.13.post1.tar.gz#sha256=1a432bf9fd56f089256c010da009c90d4a795c531a848132c965052185336600 (from https://pypi.org/simple/fiona/). Command errored out with exit status 1: python setup.py egg_info Check the logs for full command output.\n",
      "    ERROR: Command errored out with exit status 1:\n",
      "     command: 'C:\\Users\\sbhew\\anaconda3\\python.exe' -c 'import io, os, sys, setuptools, tokenize; sys.argv[0] = '\"'\"'C:\\\\Users\\\\sbhew\\\\AppData\\\\Local\\\\Temp\\\\pip-install-vaq8d3il\\\\fiona_5b87b9bf94464d2ba2eee42c759d36b1\\\\setup.py'\"'\"'; __file__='\"'\"'C:\\\\Users\\\\sbhew\\\\AppData\\\\Local\\\\Temp\\\\pip-install-vaq8d3il\\\\fiona_5b87b9bf94464d2ba2eee42c759d36b1\\\\setup.py'\"'\"';f = getattr(tokenize, '\"'\"'open'\"'\"', open)(__file__) if os.path.exists(__file__) else io.StringIO('\"'\"'from setuptools import setup; setup()'\"'\"');code = f.read().replace('\"'\"'\\r\\n'\"'\"', '\"'\"'\\n'\"'\"');f.close();exec(compile(code, __file__, '\"'\"'exec'\"'\"'))' egg_info --egg-base 'C:\\Users\\sbhew\\AppData\\Local\\Temp\\pip-pip-egg-info-h1tlxver'\n",
      "         cwd: C:\\Users\\sbhew\\AppData\\Local\\Temp\\pip-install-vaq8d3il\\fiona_5b87b9bf94464d2ba2eee42c759d36b1\\\n",
      "    Complete output (1 lines):\n",
      "    A GDAL API version must be specified. Provide a path to gdal-config using a GDAL_CONFIG environment variable or use a GDAL_VERSION environment variable.\n",
      "    ----------------------------------------\n",
      "WARNING: Discarding https://files.pythonhosted.org/packages/be/04/31d0a6f03943b1684f32c9b861be40c1fd282468fa6bd54ddf4a774e6b0f/Fiona-1.8.13.tar.gz#sha256=5ec34898c8b983a723fb4e949dd3e0ed7e691c303e51f6bfd61e52ac9ac813ae (from https://pypi.org/simple/fiona/). Command errored out with exit status 1: python setup.py egg_info Check the logs for full command output.\n",
      "    ERROR: Command errored out with exit status 1:\n",
      "     command: 'C:\\Users\\sbhew\\anaconda3\\python.exe' -c 'import io, os, sys, setuptools, tokenize; sys.argv[0] = '\"'\"'C:\\\\Users\\\\sbhew\\\\AppData\\\\Local\\\\Temp\\\\pip-install-vaq8d3il\\\\fiona_16a362a794da43059e5c5fdc58659801\\\\setup.py'\"'\"'; __file__='\"'\"'C:\\\\Users\\\\sbhew\\\\AppData\\\\Local\\\\Temp\\\\pip-install-vaq8d3il\\\\fiona_16a362a794da43059e5c5fdc58659801\\\\setup.py'\"'\"';f = getattr(tokenize, '\"'\"'open'\"'\"', open)(__file__) if os.path.exists(__file__) else io.StringIO('\"'\"'from setuptools import setup; setup()'\"'\"');code = f.read().replace('\"'\"'\\r\\n'\"'\"', '\"'\"'\\n'\"'\"');f.close();exec(compile(code, __file__, '\"'\"'exec'\"'\"'))' egg_info --egg-base 'C:\\Users\\sbhew\\AppData\\Local\\Temp\\pip-pip-egg-info-01eyimm8'\n",
      "         cwd: C:\\Users\\sbhew\\AppData\\Local\\Temp\\pip-install-vaq8d3il\\fiona_16a362a794da43059e5c5fdc58659801\\\n",
      "    Complete output (1 lines):\n",
      "    A GDAL API version must be specified. Provide a path to gdal-config using a GDAL_CONFIG environment variable or use a GDAL_VERSION environment variable.\n",
      "    ----------------------------------------\n",
      "WARNING: Discarding https://files.pythonhosted.org/packages/97/d8/feab39987296437fbdc3029fb39752a14355d217d73b93471010b8dd63a3/Fiona-1.8.12.tar.gz#sha256=c9266ddf6ae2a64fcea20014ddf27f800ac07584f2fdb09c2a02f3b3a52e371c (from https://pypi.org/simple/fiona/). Command errored out with exit status 1: python setup.py egg_info Check the logs for full command output.\n",
      "    ERROR: Command errored out with exit status 1:\n",
      "     command: 'C:\\Users\\sbhew\\anaconda3\\python.exe' -c 'import io, os, sys, setuptools, tokenize; sys.argv[0] = '\"'\"'C:\\\\Users\\\\sbhew\\\\AppData\\\\Local\\\\Temp\\\\pip-install-vaq8d3il\\\\fiona_15c798b794c54312b7094ceab7e496d2\\\\setup.py'\"'\"'; __file__='\"'\"'C:\\\\Users\\\\sbhew\\\\AppData\\\\Local\\\\Temp\\\\pip-install-vaq8d3il\\\\fiona_15c798b794c54312b7094ceab7e496d2\\\\setup.py'\"'\"';f = getattr(tokenize, '\"'\"'open'\"'\"', open)(__file__) if os.path.exists(__file__) else io.StringIO('\"'\"'from setuptools import setup; setup()'\"'\"');code = f.read().replace('\"'\"'\\r\\n'\"'\"', '\"'\"'\\n'\"'\"');f.close();exec(compile(code, __file__, '\"'\"'exec'\"'\"'))' egg_info --egg-base 'C:\\Users\\sbhew\\AppData\\Local\\Temp\\pip-pip-egg-info-6ivn0now'\n",
      "         cwd: C:\\Users\\sbhew\\AppData\\Local\\Temp\\pip-install-vaq8d3il\\fiona_15c798b794c54312b7094ceab7e496d2\\\n",
      "    Complete output (1 lines):\n",
      "    A GDAL API version must be specified. Provide a path to gdal-config using a GDAL_CONFIG environment variable or use a GDAL_VERSION environment variable.\n",
      "    ----------------------------------------\n",
      "WARNING: Discarding https://files.pythonhosted.org/packages/9d/f4/0a0ddc6174c4a93679b5f1dd3535e7ef8989828e6d5f86112de681f8c87b/Fiona-1.8.11.tar.gz#sha256=1e7ca9e051f5bffa1c43c70d573da9ca223fc076b84fa73380614fc02b9eb7f6 (from https://pypi.org/simple/fiona/). Command errored out with exit status 1: python setup.py egg_info Check the logs for full command output.\n",
      "    ERROR: Command errored out with exit status 1:\n",
      "     command: 'C:\\Users\\sbhew\\anaconda3\\python.exe' -c 'import io, os, sys, setuptools, tokenize; sys.argv[0] = '\"'\"'C:\\\\Users\\\\sbhew\\\\AppData\\\\Local\\\\Temp\\\\pip-install-vaq8d3il\\\\fiona_fb541e8f3bdb4e04816428ef5db13eb6\\\\setup.py'\"'\"'; __file__='\"'\"'C:\\\\Users\\\\sbhew\\\\AppData\\\\Local\\\\Temp\\\\pip-install-vaq8d3il\\\\fiona_fb541e8f3bdb4e04816428ef5db13eb6\\\\setup.py'\"'\"';f = getattr(tokenize, '\"'\"'open'\"'\"', open)(__file__) if os.path.exists(__file__) else io.StringIO('\"'\"'from setuptools import setup; setup()'\"'\"');code = f.read().replace('\"'\"'\\r\\n'\"'\"', '\"'\"'\\n'\"'\"');f.close();exec(compile(code, __file__, '\"'\"'exec'\"'\"'))' egg_info --egg-base 'C:\\Users\\sbhew\\AppData\\Local\\Temp\\pip-pip-egg-info-3mk0m1tv'\n",
      "         cwd: C:\\Users\\sbhew\\AppData\\Local\\Temp\\pip-install-vaq8d3il\\fiona_fb541e8f3bdb4e04816428ef5db13eb6\\\n",
      "    Complete output (1 lines):\n",
      "    A GDAL API version must be specified. Provide a path to gdal-config using a GDAL_CONFIG environment variable or use a GDAL_VERSION environment variable.\n",
      "    ----------------------------------------\n",
      "WARNING: Discarding https://files.pythonhosted.org/packages/13/73/f80b491ed8559326fab202a6d6333a3cd6e8be1e9d782bc6c0d03d476457/Fiona-1.8.10.tar.gz#sha256=ff562eb2f3960e21f8c7f050ddd7f47a763869ea14afc2234a40df72666c6a2c (from https://pypi.org/simple/fiona/). Command errored out with exit status 1: python setup.py egg_info Check the logs for full command output.\n",
      "    ERROR: Command errored out with exit status 1:\n",
      "     command: 'C:\\Users\\sbhew\\anaconda3\\python.exe' -c 'import io, os, sys, setuptools, tokenize; sys.argv[0] = '\"'\"'C:\\\\Users\\\\sbhew\\\\AppData\\\\Local\\\\Temp\\\\pip-install-vaq8d3il\\\\fiona_40fd32ffc27246abb8326fde7b4d1921\\\\setup.py'\"'\"'; __file__='\"'\"'C:\\\\Users\\\\sbhew\\\\AppData\\\\Local\\\\Temp\\\\pip-install-vaq8d3il\\\\fiona_40fd32ffc27246abb8326fde7b4d1921\\\\setup.py'\"'\"';f = getattr(tokenize, '\"'\"'open'\"'\"', open)(__file__) if os.path.exists(__file__) else io.StringIO('\"'\"'from setuptools import setup; setup()'\"'\"');code = f.read().replace('\"'\"'\\r\\n'\"'\"', '\"'\"'\\n'\"'\"');f.close();exec(compile(code, __file__, '\"'\"'exec'\"'\"'))' egg_info --egg-base 'C:\\Users\\sbhew\\AppData\\Local\\Temp\\pip-pip-egg-info-b7nu54tb'\n",
      "         cwd: C:\\Users\\sbhew\\AppData\\Local\\Temp\\pip-install-vaq8d3il\\fiona_40fd32ffc27246abb8326fde7b4d1921\\\n",
      "    Complete output (1 lines):\n",
      "    A GDAL API version must be specified. Provide a path to gdal-config using a GDAL_CONFIG environment variable or use a GDAL_VERSION environment variable.\n",
      "    ----------------------------------------\n",
      "WARNING: Discarding https://files.pythonhosted.org/packages/9b/52/45e75507660ce0e86176d0f59b659560f687e2c7e9ebf82a10e7dcd2d3b7/Fiona-1.8.9.post2.tar.gz#sha256=210fb038b579fab38f35ddbdd31b9725f4d5099b3edfd4b87c983e5d47b79983 (from https://pypi.org/simple/fiona/). Command errored out with exit status 1: python setup.py egg_info Check the logs for full command output.\n",
      "    ERROR: Command errored out with exit status 1:\n",
      "     command: 'C:\\Users\\sbhew\\anaconda3\\python.exe' -c 'import io, os, sys, setuptools, tokenize; sys.argv[0] = '\"'\"'C:\\\\Users\\\\sbhew\\\\AppData\\\\Local\\\\Temp\\\\pip-install-vaq8d3il\\\\fiona_973288d4a9e54d2e839d9a568e0b68a3\\\\setup.py'\"'\"'; __file__='\"'\"'C:\\\\Users\\\\sbhew\\\\AppData\\\\Local\\\\Temp\\\\pip-install-vaq8d3il\\\\fiona_973288d4a9e54d2e839d9a568e0b68a3\\\\setup.py'\"'\"';f = getattr(tokenize, '\"'\"'open'\"'\"', open)(__file__) if os.path.exists(__file__) else io.StringIO('\"'\"'from setuptools import setup; setup()'\"'\"');code = f.read().replace('\"'\"'\\r\\n'\"'\"', '\"'\"'\\n'\"'\"');f.close();exec(compile(code, __file__, '\"'\"'exec'\"'\"'))' egg_info --egg-base 'C:\\Users\\sbhew\\AppData\\Local\\Temp\\pip-pip-egg-info-g8ie79ry'\n",
      "         cwd: C:\\Users\\sbhew\\AppData\\Local\\Temp\\pip-install-vaq8d3il\\fiona_973288d4a9e54d2e839d9a568e0b68a3\\\n",
      "    Complete output (1 lines):\n",
      "    A GDAL API version must be specified. Provide a path to gdal-config using a GDAL_CONFIG environment variable or use a GDAL_VERSION environment variable.\n",
      "    ----------------------------------------\n",
      "WARNING: Discarding https://files.pythonhosted.org/packages/0e/a4/d9dd7399be809d3990f5000fb6ae43189ea26ae88be1bed3a4c9ddc1becc/Fiona-1.8.9.post1.tar.gz#sha256=d5e0ea0b8addffe9cba4cb59e2bd495b015230e7a1b1597974f5048211930199 (from https://pypi.org/simple/fiona/). Command errored out with exit status 1: python setup.py egg_info Check the logs for full command output.\n",
      "    ERROR: Command errored out with exit status 1:\n",
      "     command: 'C:\\Users\\sbhew\\anaconda3\\python.exe' -c 'import io, os, sys, setuptools, tokenize; sys.argv[0] = '\"'\"'C:\\\\Users\\\\sbhew\\\\AppData\\\\Local\\\\Temp\\\\pip-install-vaq8d3il\\\\fiona_23aec1544b624e8493ac3e7f52a88d5a\\\\setup.py'\"'\"'; __file__='\"'\"'C:\\\\Users\\\\sbhew\\\\AppData\\\\Local\\\\Temp\\\\pip-install-vaq8d3il\\\\fiona_23aec1544b624e8493ac3e7f52a88d5a\\\\setup.py'\"'\"';f = getattr(tokenize, '\"'\"'open'\"'\"', open)(__file__) if os.path.exists(__file__) else io.StringIO('\"'\"'from setuptools import setup; setup()'\"'\"');code = f.read().replace('\"'\"'\\r\\n'\"'\"', '\"'\"'\\n'\"'\"');f.close();exec(compile(code, __file__, '\"'\"'exec'\"'\"'))' egg_info --egg-base 'C:\\Users\\sbhew\\AppData\\Local\\Temp\\pip-pip-egg-info-u15tkzsz'\n",
      "         cwd: C:\\Users\\sbhew\\AppData\\Local\\Temp\\pip-install-vaq8d3il\\fiona_23aec1544b624e8493ac3e7f52a88d5a\\\n",
      "    Complete output (1 lines):\n",
      "    A GDAL API version must be specified. Provide a path to gdal-config using a GDAL_CONFIG environment variable or use a GDAL_VERSION environment variable.\n",
      "    ----------------------------------------\n",
      "WARNING: Discarding https://files.pythonhosted.org/packages/ad/92/dcbd8c54d697c22f299b5af63b6df3acfbd06c6d72e249614c05be99337c/Fiona-1.8.9.tar.gz#sha256=4dd6e2f5327c1174143c7c8594a75d373bc72f2c9a2a6daee312c3186a128add (from https://pypi.org/simple/fiona/). Command errored out with exit status 1: python setup.py egg_info Check the logs for full command output.\n",
      "    ERROR: Command errored out with exit status 1:\n",
      "     command: 'C:\\Users\\sbhew\\anaconda3\\python.exe' -c 'import io, os, sys, setuptools, tokenize; sys.argv[0] = '\"'\"'C:\\\\Users\\\\sbhew\\\\AppData\\\\Local\\\\Temp\\\\pip-install-vaq8d3il\\\\fiona_3380d781a36d44d983ddb7408b350c52\\\\setup.py'\"'\"'; __file__='\"'\"'C:\\\\Users\\\\sbhew\\\\AppData\\\\Local\\\\Temp\\\\pip-install-vaq8d3il\\\\fiona_3380d781a36d44d983ddb7408b350c52\\\\setup.py'\"'\"';f = getattr(tokenize, '\"'\"'open'\"'\"', open)(__file__) if os.path.exists(__file__) else io.StringIO('\"'\"'from setuptools import setup; setup()'\"'\"');code = f.read().replace('\"'\"'\\r\\n'\"'\"', '\"'\"'\\n'\"'\"');f.close();exec(compile(code, __file__, '\"'\"'exec'\"'\"'))' egg_info --egg-base 'C:\\Users\\sbhew\\AppData\\Local\\Temp\\pip-pip-egg-info-b4mgi5p9'\n",
      "         cwd: C:\\Users\\sbhew\\AppData\\Local\\Temp\\pip-install-vaq8d3il\\fiona_3380d781a36d44d983ddb7408b350c52\\\n",
      "    Complete output (1 lines):\n",
      "    A GDAL API version must be specified. Provide a path to gdal-config using a GDAL_CONFIG environment variable or use a GDAL_VERSION environment variable.\n",
      "    ----------------------------------------\n",
      "WARNING: Discarding https://files.pythonhosted.org/packages/94/7f/e288db1ad63d759d494c30caae34f865e0c6927588c490705e91b7134193/Fiona-1.8.8.tar.gz#sha256=711c3be73203b37812992089445a1e4e9d3d6b64e667389f7b15406e15a91e83 (from https://pypi.org/simple/fiona/). Command errored out with exit status 1: python setup.py egg_info Check the logs for full command output.\n",
      "    ERROR: Command errored out with exit status 1:\n",
      "     command: 'C:\\Users\\sbhew\\anaconda3\\python.exe' -c 'import io, os, sys, setuptools, tokenize; sys.argv[0] = '\"'\"'C:\\\\Users\\\\sbhew\\\\AppData\\\\Local\\\\Temp\\\\pip-install-vaq8d3il\\\\fiona_477a7a9bf3f641a9a3a7b4e006e433a6\\\\setup.py'\"'\"'; __file__='\"'\"'C:\\\\Users\\\\sbhew\\\\AppData\\\\Local\\\\Temp\\\\pip-install-vaq8d3il\\\\fiona_477a7a9bf3f641a9a3a7b4e006e433a6\\\\setup.py'\"'\"';f = getattr(tokenize, '\"'\"'open'\"'\"', open)(__file__) if os.path.exists(__file__) else io.StringIO('\"'\"'from setuptools import setup; setup()'\"'\"');code = f.read().replace('\"'\"'\\r\\n'\"'\"', '\"'\"'\\n'\"'\"');f.close();exec(compile(code, __file__, '\"'\"'exec'\"'\"'))' egg_info --egg-base 'C:\\Users\\sbhew\\AppData\\Local\\Temp\\pip-pip-egg-info-nlnbak04'\n",
      "         cwd: C:\\Users\\sbhew\\AppData\\Local\\Temp\\pip-install-vaq8d3il\\fiona_477a7a9bf3f641a9a3a7b4e006e433a6\\\n",
      "    Complete output (1 lines):\n",
      "    A GDAL API version must be specified. Provide a path to gdal-config using a GDAL_CONFIG environment variable or use a GDAL_VERSION environment variable.\n",
      "    ----------------------------------------\n",
      "WARNING: Discarding https://files.pythonhosted.org/packages/78/62/daafd070aebefa639df247705b97f13f7cfad43895581b5cae41bd886709/Fiona-1.8.7.tar.gz#sha256=a55a23615bad3e142d4e4cda97bb5de83c778a80049222e9dffae93c13b5cf93 (from https://pypi.org/simple/fiona/). Command errored out with exit status 1: python setup.py egg_info Check the logs for full command output.\n",
      "    ERROR: Command errored out with exit status 1:\n",
      "     command: 'C:\\Users\\sbhew\\anaconda3\\python.exe' -c 'import io, os, sys, setuptools, tokenize; sys.argv[0] = '\"'\"'C:\\\\Users\\\\sbhew\\\\AppData\\\\Local\\\\Temp\\\\pip-install-vaq8d3il\\\\fiona_75a86818e4b24d0cb99e51cddbe33e0f\\\\setup.py'\"'\"'; __file__='\"'\"'C:\\\\Users\\\\sbhew\\\\AppData\\\\Local\\\\Temp\\\\pip-install-vaq8d3il\\\\fiona_75a86818e4b24d0cb99e51cddbe33e0f\\\\setup.py'\"'\"';f = getattr(tokenize, '\"'\"'open'\"'\"', open)(__file__) if os.path.exists(__file__) else io.StringIO('\"'\"'from setuptools import setup; setup()'\"'\"');code = f.read().replace('\"'\"'\\r\\n'\"'\"', '\"'\"'\\n'\"'\"');f.close();exec(compile(code, __file__, '\"'\"'exec'\"'\"'))' egg_info --egg-base 'C:\\Users\\sbhew\\AppData\\Local\\Temp\\pip-pip-egg-info-mnnwyr0k'\n",
      "         cwd: C:\\Users\\sbhew\\AppData\\Local\\Temp\\pip-install-vaq8d3il\\fiona_75a86818e4b24d0cb99e51cddbe33e0f\\\n",
      "    Complete output (1 lines):\n",
      "    A GDAL API version must be specified. Provide a path to gdal-config using a GDAL_CONFIG environment variable or use a GDAL_VERSION environment variable.\n",
      "    ----------------------------------------\n",
      "WARNING: Discarding https://files.pythonhosted.org/packages/41/9d/63696e7b1de42aad294d4781199a408bec593d8fdb80a2b4a788c911a33b/Fiona-1.8.6.tar.gz#sha256=fa31dfe8855b9cd0b128b47a4df558f1b8eda90d2181bff1dd9854e5556efb3e (from https://pypi.org/simple/fiona/). Command errored out with exit status 1: python setup.py egg_info Check the logs for full command output.\n",
      "    ERROR: Command errored out with exit status 1:\n",
      "     command: 'C:\\Users\\sbhew\\anaconda3\\python.exe' -c 'import io, os, sys, setuptools, tokenize; sys.argv[0] = '\"'\"'C:\\\\Users\\\\sbhew\\\\AppData\\\\Local\\\\Temp\\\\pip-install-vaq8d3il\\\\fiona_e53dbf04ab504e449c4c6f93a74925fd\\\\setup.py'\"'\"'; __file__='\"'\"'C:\\\\Users\\\\sbhew\\\\AppData\\\\Local\\\\Temp\\\\pip-install-vaq8d3il\\\\fiona_e53dbf04ab504e449c4c6f93a74925fd\\\\setup.py'\"'\"';f = getattr(tokenize, '\"'\"'open'\"'\"', open)(__file__) if os.path.exists(__file__) else io.StringIO('\"'\"'from setuptools import setup; setup()'\"'\"');code = f.read().replace('\"'\"'\\r\\n'\"'\"', '\"'\"'\\n'\"'\"');f.close();exec(compile(code, __file__, '\"'\"'exec'\"'\"'))' egg_info --egg-base 'C:\\Users\\sbhew\\AppData\\Local\\Temp\\pip-pip-egg-info-kzyb37mb'\n",
      "         cwd: C:\\Users\\sbhew\\AppData\\Local\\Temp\\pip-install-vaq8d3il\\fiona_e53dbf04ab504e449c4c6f93a74925fd\\\n",
      "    Complete output (1 lines):\n",
      "    A GDAL API version must be specified. Provide a path to gdal-config using a GDAL_CONFIG environment variable or use a GDAL_VERSION environment variable.\n",
      "    ----------------------------------------\n",
      "WARNING: Discarding https://files.pythonhosted.org/packages/7b/af/1c2c83c4a8363a4ce9fea817b1910b5e071bed012e18257faa2a0ab3cfe7/Fiona-1.8.5.tar.gz#sha256=4f5cc2d449edbbf693c83e24cdada72de7c41297383d16fcc92387eb445e9d35 (from https://pypi.org/simple/fiona/). Command errored out with exit status 1: python setup.py egg_info Check the logs for full command output.\n",
      "    ERROR: Command errored out with exit status 1:\n",
      "     command: 'C:\\Users\\sbhew\\anaconda3\\python.exe' -c 'import io, os, sys, setuptools, tokenize; sys.argv[0] = '\"'\"'C:\\\\Users\\\\sbhew\\\\AppData\\\\Local\\\\Temp\\\\pip-install-vaq8d3il\\\\fiona_737876fe8bb44d888c9391b524331783\\\\setup.py'\"'\"'; __file__='\"'\"'C:\\\\Users\\\\sbhew\\\\AppData\\\\Local\\\\Temp\\\\pip-install-vaq8d3il\\\\fiona_737876fe8bb44d888c9391b524331783\\\\setup.py'\"'\"';f = getattr(tokenize, '\"'\"'open'\"'\"', open)(__file__) if os.path.exists(__file__) else io.StringIO('\"'\"'from setuptools import setup; setup()'\"'\"');code = f.read().replace('\"'\"'\\r\\n'\"'\"', '\"'\"'\\n'\"'\"');f.close();exec(compile(code, __file__, '\"'\"'exec'\"'\"'))' egg_info --egg-base 'C:\\Users\\sbhew\\AppData\\Local\\Temp\\pip-pip-egg-info-mews4uox'\n",
      "         cwd: C:\\Users\\sbhew\\AppData\\Local\\Temp\\pip-install-vaq8d3il\\fiona_737876fe8bb44d888c9391b524331783\\\n",
      "    Complete output (1 lines):\n",
      "    A GDAL API version must be specified. Provide a path to gdal-config using a GDAL_CONFIG environment variable or use a GDAL_VERSION environment variable.\n",
      "    ----------------------------------------\n",
      "WARNING: Discarding https://files.pythonhosted.org/packages/3a/16/84960540e9fce61d767fd2f0f1d95f4c63e99ab5d8fddc308e8b51b059b8/Fiona-1.8.4.tar.gz#sha256=aec9ab2e3513c9503ec123b1a8573bee55fc6a66e2ac07088c3376bf6738a424 (from https://pypi.org/simple/fiona/). Command errored out with exit status 1: python setup.py egg_info Check the logs for full command output.\n",
      "    ERROR: Command errored out with exit status 1:\n",
      "     command: 'C:\\Users\\sbhew\\anaconda3\\python.exe' -c 'import io, os, sys, setuptools, tokenize; sys.argv[0] = '\"'\"'C:\\\\Users\\\\sbhew\\\\AppData\\\\Local\\\\Temp\\\\pip-install-vaq8d3il\\\\fiona_43edc01c0d434393b52f207e2e6ae178\\\\setup.py'\"'\"'; __file__='\"'\"'C:\\\\Users\\\\sbhew\\\\AppData\\\\Local\\\\Temp\\\\pip-install-vaq8d3il\\\\fiona_43edc01c0d434393b52f207e2e6ae178\\\\setup.py'\"'\"';f = getattr(tokenize, '\"'\"'open'\"'\"', open)(__file__) if os.path.exists(__file__) else io.StringIO('\"'\"'from setuptools import setup; setup()'\"'\"');code = f.read().replace('\"'\"'\\r\\n'\"'\"', '\"'\"'\\n'\"'\"');f.close();exec(compile(code, __file__, '\"'\"'exec'\"'\"'))' egg_info --egg-base 'C:\\Users\\sbhew\\AppData\\Local\\Temp\\pip-pip-egg-info-i7fuekd1'\n",
      "         cwd: C:\\Users\\sbhew\\AppData\\Local\\Temp\\pip-install-vaq8d3il\\fiona_43edc01c0d434393b52f207e2e6ae178\\\n",
      "    Complete output (1 lines):\n",
      "    A GDAL API version must be specified. Provide a path to gdal-config using a GDAL_CONFIG environment variable or use a GDAL_VERSION environment variable.\n",
      "    ----------------------------------------\n",
      "WARNING: Discarding https://files.pythonhosted.org/packages/46/d1/fcdb32513a03abfde0d97fd9782ce0f8cc0540fa6c6ce783e87b94064964/Fiona-1.8.3.tar.gz#sha256=3e831100a23c3b6cd32b98baf0c9e2119d909b44a5cf4533d3625f61dcf2d2b1 (from https://pypi.org/simple/fiona/). Command errored out with exit status 1: python setup.py egg_info Check the logs for full command output.\n",
      "    ERROR: Command errored out with exit status 1:\n",
      "     command: 'C:\\Users\\sbhew\\anaconda3\\python.exe' -c 'import io, os, sys, setuptools, tokenize; sys.argv[0] = '\"'\"'C:\\\\Users\\\\sbhew\\\\AppData\\\\Local\\\\Temp\\\\pip-install-vaq8d3il\\\\fiona_c50f66915ddd467e8d496404ad494d3c\\\\setup.py'\"'\"'; __file__='\"'\"'C:\\\\Users\\\\sbhew\\\\AppData\\\\Local\\\\Temp\\\\pip-install-vaq8d3il\\\\fiona_c50f66915ddd467e8d496404ad494d3c\\\\setup.py'\"'\"';f = getattr(tokenize, '\"'\"'open'\"'\"', open)(__file__) if os.path.exists(__file__) else io.StringIO('\"'\"'from setuptools import setup; setup()'\"'\"');code = f.read().replace('\"'\"'\\r\\n'\"'\"', '\"'\"'\\n'\"'\"');f.close();exec(compile(code, __file__, '\"'\"'exec'\"'\"'))' egg_info --egg-base 'C:\\Users\\sbhew\\AppData\\Local\\Temp\\pip-pip-egg-info-6wtya9qq'\n",
      "         cwd: C:\\Users\\sbhew\\AppData\\Local\\Temp\\pip-install-vaq8d3il\\fiona_c50f66915ddd467e8d496404ad494d3c\\\n",
      "    Complete output (1 lines):\n",
      "    A GDAL API version must be specified. Provide a path to gdal-config using a GDAL_CONFIG environment variable or use a GDAL_VERSION environment variable.\n",
      "    ----------------------------------------\n",
      "WARNING: Discarding https://files.pythonhosted.org/packages/25/50/0466d5d83e1859c5ca38351ee932d64cc5635f9d4dad522879e58f4b0018/Fiona-1.8.2.tar.gz#sha256=4c6419b7ac29136708029f6a44b4ccd458735a4d241016c7b1bab41685c08d8f (from https://pypi.org/simple/fiona/). Command errored out with exit status 1: python setup.py egg_info Check the logs for full command output.\n",
      "    ERROR: Command errored out with exit status 1:\n",
      "     command: 'C:\\Users\\sbhew\\anaconda3\\python.exe' -c 'import io, os, sys, setuptools, tokenize; sys.argv[0] = '\"'\"'C:\\\\Users\\\\sbhew\\\\AppData\\\\Local\\\\Temp\\\\pip-install-vaq8d3il\\\\fiona_ebeebbc5f2b644d8b59b524be78b69f5\\\\setup.py'\"'\"'; __file__='\"'\"'C:\\\\Users\\\\sbhew\\\\AppData\\\\Local\\\\Temp\\\\pip-install-vaq8d3il\\\\fiona_ebeebbc5f2b644d8b59b524be78b69f5\\\\setup.py'\"'\"';f = getattr(tokenize, '\"'\"'open'\"'\"', open)(__file__) if os.path.exists(__file__) else io.StringIO('\"'\"'from setuptools import setup; setup()'\"'\"');code = f.read().replace('\"'\"'\\r\\n'\"'\"', '\"'\"'\\n'\"'\"');f.close();exec(compile(code, __file__, '\"'\"'exec'\"'\"'))' egg_info --egg-base 'C:\\Users\\sbhew\\AppData\\Local\\Temp\\pip-pip-egg-info-3u9kvgvv'\n",
      "         cwd: C:\\Users\\sbhew\\AppData\\Local\\Temp\\pip-install-vaq8d3il\\fiona_ebeebbc5f2b644d8b59b524be78b69f5\\\n",
      "    Complete output (1 lines):\n",
      "    A GDAL API version must be specified. Provide a path to gdal-config using a GDAL_CONFIG environment variable or use a GDAL_VERSION environment variable.\n",
      "    ----------------------------------------\n",
      "WARNING: Discarding https://files.pythonhosted.org/packages/3e/5f/0c6704efeea2ff3fba7f54cc6ec38070157f21bc1cffa7bdfa7c9f6b8f7a/Fiona-1.8.1.tar.gz#sha256=4c34bb4c5cd788aaf14e5484c3b7de407b1a8a7c7b2d29bbb2e8b37931e83b8d (from https://pypi.org/simple/fiona/). Command errored out with exit status 1: python setup.py egg_info Check the logs for full command output.\n",
      "    ERROR: Command errored out with exit status 1:\n",
      "     command: 'C:\\Users\\sbhew\\anaconda3\\python.exe' -c 'import io, os, sys, setuptools, tokenize; sys.argv[0] = '\"'\"'C:\\\\Users\\\\sbhew\\\\AppData\\\\Local\\\\Temp\\\\pip-install-vaq8d3il\\\\fiona_cf2b3ccb16374e4abb578284a4491e85\\\\setup.py'\"'\"'; __file__='\"'\"'C:\\\\Users\\\\sbhew\\\\AppData\\\\Local\\\\Temp\\\\pip-install-vaq8d3il\\\\fiona_cf2b3ccb16374e4abb578284a4491e85\\\\setup.py'\"'\"';f = getattr(tokenize, '\"'\"'open'\"'\"', open)(__file__) if os.path.exists(__file__) else io.StringIO('\"'\"'from setuptools import setup; setup()'\"'\"');code = f.read().replace('\"'\"'\\r\\n'\"'\"', '\"'\"'\\n'\"'\"');f.close();exec(compile(code, __file__, '\"'\"'exec'\"'\"'))' egg_info --egg-base 'C:\\Users\\sbhew\\AppData\\Local\\Temp\\pip-pip-egg-info-ks7e9wdy'\n",
      "         cwd: C:\\Users\\sbhew\\AppData\\Local\\Temp\\pip-install-vaq8d3il\\fiona_cf2b3ccb16374e4abb578284a4491e85\\\n",
      "    Complete output (1 lines):\n",
      "    A GDAL API version must be specified. Provide a path to gdal-config using a GDAL_CONFIG environment variable or use a GDAL_VERSION environment variable.\n",
      "    ----------------------------------------\n",
      "WARNING: Discarding https://files.pythonhosted.org/packages/2a/bd/c1efc2680f338e5941121c776d6323af6b9698ac739e22ba523cee348a7f/Fiona-1.8.0.tar.gz#sha256=20141a9ece06daa7bb4333fba640c2fe39a49f8aca5492d1da8595d41e91844a (from https://pypi.org/simple/fiona/). Command errored out with exit status 1: python setup.py egg_info Check the logs for full command output.\n",
      "  ERROR: Command errored out with exit status 1:\n",
      "   command: 'C:\\Users\\sbhew\\anaconda3\\python.exe' -u -c 'import io, os, sys, setuptools, tokenize; sys.argv[0] = '\"'\"'C:\\\\Users\\\\sbhew\\\\AppData\\\\Local\\\\Temp\\\\pip-install-vaq8d3il\\\\fiona_df50cd54a2f845c9a35e0ed6351318ed\\\\setup.py'\"'\"'; __file__='\"'\"'C:\\\\Users\\\\sbhew\\\\AppData\\\\Local\\\\Temp\\\\pip-install-vaq8d3il\\\\fiona_df50cd54a2f845c9a35e0ed6351318ed\\\\setup.py'\"'\"';f = getattr(tokenize, '\"'\"'open'\"'\"', open)(__file__) if os.path.exists(__file__) else io.StringIO('\"'\"'from setuptools import setup; setup()'\"'\"');code = f.read().replace('\"'\"'\\r\\n'\"'\"', '\"'\"'\\n'\"'\"');f.close();exec(compile(code, __file__, '\"'\"'exec'\"'\"'))' bdist_wheel -d 'C:\\Users\\sbhew\\AppData\\Local\\Temp\\pip-wheel-h2rdy811'\n",
      "       cwd: C:\\Users\\sbhew\\AppData\\Local\\Temp\\pip-install-vaq8d3il\\fiona_df50cd54a2f845c9a35e0ed6351318ed\\\n",
      "  Complete output (42 lines):\n",
      "  C:\\Users\\sbhew\\anaconda3\\lib\\site-packages\\setuptools\\_distutils\\dist.py:275: UserWarning: Unknown distribution option: 'metadata_version'\n",
      "    warnings.warn(msg)\n",
      "  C:\\Users\\sbhew\\anaconda3\\lib\\site-packages\\setuptools\\_distutils\\dist.py:275: UserWarning: Unknown distribution option: 'requires_python'\n",
      "    warnings.warn(msg)\n",
      "  C:\\Users\\sbhew\\anaconda3\\lib\\site-packages\\setuptools\\_distutils\\dist.py:275: UserWarning: Unknown distribution option: 'requires_external'\n",
      "    warnings.warn(msg)\n",
      "  running bdist_wheel\n",
      "  running build\n",
      "  running build_py\n",
      "  creating build\n",
      "  creating build\\lib.win-amd64-3.9\n",
      "  creating build\\lib.win-amd64-3.9\\fiona\n",
      "  copying .\\fiona\\collection.py -> build\\lib.win-amd64-3.9\\fiona\n",
      "  copying .\\fiona\\compat.py -> build\\lib.win-amd64-3.9\\fiona\n",
      "  copying .\\fiona\\crs.py -> build\\lib.win-amd64-3.9\\fiona\n",
      "  copying .\\fiona\\drvsupport.py -> build\\lib.win-amd64-3.9\\fiona\n",
      "  copying .\\fiona\\errors.py -> build\\lib.win-amd64-3.9\\fiona\n",
      "  copying .\\fiona\\inspector.py -> build\\lib.win-amd64-3.9\\fiona\n",
      "  copying .\\fiona\\rfc3339.py -> build\\lib.win-amd64-3.9\\fiona\n",
      "  copying .\\fiona\\tool.py -> build\\lib.win-amd64-3.9\\fiona\n",
      "  copying .\\fiona\\transform.py -> build\\lib.win-amd64-3.9\\fiona\n",
      "  copying .\\fiona\\__init__.py -> build\\lib.win-amd64-3.9\\fiona\n",
      "  creating build\\lib.win-amd64-3.9\\fiona\\fio\n",
      "  copying .\\fiona\\fio\\bounds.py -> build\\lib.win-amd64-3.9\\fiona\\fio\n",
      "  copying .\\fiona\\fio\\calc.py -> build\\lib.win-amd64-3.9\\fiona\\fio\n",
      "  copying .\\fiona\\fio\\cat.py -> build\\lib.win-amd64-3.9\\fiona\\fio\n",
      "  copying .\\fiona\\fio\\collect.py -> build\\lib.win-amd64-3.9\\fiona\\fio\n",
      "  copying .\\fiona\\fio\\distrib.py -> build\\lib.win-amd64-3.9\\fiona\\fio\n",
      "  copying .\\fiona\\fio\\dump.py -> build\\lib.win-amd64-3.9\\fiona\\fio\n",
      "  copying .\\fiona\\fio\\env.py -> build\\lib.win-amd64-3.9\\fiona\\fio\n",
      "  copying .\\fiona\\fio\\filter.py -> build\\lib.win-amd64-3.9\\fiona\\fio\n",
      "  copying .\\fiona\\fio\\helpers.py -> build\\lib.win-amd64-3.9\\fiona\\fio\n",
      "  copying .\\fiona\\fio\\info.py -> build\\lib.win-amd64-3.9\\fiona\\fio\n",
      "  copying .\\fiona\\fio\\insp.py -> build\\lib.win-amd64-3.9\\fiona\\fio\n",
      "  copying .\\fiona\\fio\\load.py -> build\\lib.win-amd64-3.9\\fiona\\fio\n",
      "  copying .\\fiona\\fio\\ls.py -> build\\lib.win-amd64-3.9\\fiona\\fio\n",
      "  copying .\\fiona\\fio\\main.py -> build\\lib.win-amd64-3.9\\fiona\\fio\n",
      "  copying .\\fiona\\fio\\options.py -> build\\lib.win-amd64-3.9\\fiona\\fio\n",
      "  copying .\\fiona\\fio\\__init__.py -> build\\lib.win-amd64-3.9\\fiona\\fio\n",
      "  running build_ext\n",
      "  building 'fiona._transform' extension\n",
      "  error: Microsoft Visual C++ 14.0 or greater is required. Get it with \"Microsoft C++ Build Tools\": https://visualstudio.microsoft.com/visual-cpp-build-tools/\n",
      "  ----------------------------------------\n",
      "  ERROR: Failed building wheel for fiona\n",
      "    ERROR: Command errored out with exit status 1:\n",
      "     command: 'C:\\Users\\sbhew\\anaconda3\\python.exe' -u -c 'import io, os, sys, setuptools, tokenize; sys.argv[0] = '\"'\"'C:\\\\Users\\\\sbhew\\\\AppData\\\\Local\\\\Temp\\\\pip-install-vaq8d3il\\\\fiona_df50cd54a2f845c9a35e0ed6351318ed\\\\setup.py'\"'\"'; __file__='\"'\"'C:\\\\Users\\\\sbhew\\\\AppData\\\\Local\\\\Temp\\\\pip-install-vaq8d3il\\\\fiona_df50cd54a2f845c9a35e0ed6351318ed\\\\setup.py'\"'\"';f = getattr(tokenize, '\"'\"'open'\"'\"', open)(__file__) if os.path.exists(__file__) else io.StringIO('\"'\"'from setuptools import setup; setup()'\"'\"');code = f.read().replace('\"'\"'\\r\\n'\"'\"', '\"'\"'\\n'\"'\"');f.close();exec(compile(code, __file__, '\"'\"'exec'\"'\"'))' install --record 'C:\\Users\\sbhew\\AppData\\Local\\Temp\\pip-record-npkg62ei\\install-record.txt' --single-version-externally-managed --compile --install-headers 'C:\\Users\\sbhew\\anaconda3\\Include\\fiona'\n",
      "         cwd: C:\\Users\\sbhew\\AppData\\Local\\Temp\\pip-install-vaq8d3il\\fiona_df50cd54a2f845c9a35e0ed6351318ed\\\n",
      "    Complete output (14 lines):\n",
      "    C:\\Users\\sbhew\\anaconda3\\lib\\site-packages\\setuptools\\_distutils\\dist.py:275: UserWarning: Unknown distribution option: 'metadata_version'\n",
      "      warnings.warn(msg)\n",
      "    C:\\Users\\sbhew\\anaconda3\\lib\\site-packages\\setuptools\\_distutils\\dist.py:275: UserWarning: Unknown distribution option: 'requires_python'\n",
      "      warnings.warn(msg)\n",
      "    C:\\Users\\sbhew\\anaconda3\\lib\\site-packages\\setuptools\\_distutils\\dist.py:275: UserWarning: Unknown distribution option: 'requires_external'\n",
      "      warnings.warn(msg)\n",
      "    running install\n",
      "    C:\\Users\\sbhew\\anaconda3\\lib\\site-packages\\setuptools\\command\\install.py:34: SetuptoolsDeprecationWarning: setup.py install is deprecated. Use build and pip and other standards-based tools.\n",
      "      warnings.warn(\n",
      "    running build\n",
      "    running build_py\n",
      "    running build_ext\n",
      "    building 'fiona._transform' extension\n",
      "    error: Microsoft Visual C++ 14.0 or greater is required. Get it with \"Microsoft C++ Build Tools\": https://visualstudio.microsoft.com/visual-cpp-build-tools/\n",
      "    ----------------------------------------\n",
      "ERROR: Command errored out with exit status 1: 'C:\\Users\\sbhew\\anaconda3\\python.exe' -u -c 'import io, os, sys, setuptools, tokenize; sys.argv[0] = '\"'\"'C:\\\\Users\\\\sbhew\\\\AppData\\\\Local\\\\Temp\\\\pip-install-vaq8d3il\\\\fiona_df50cd54a2f845c9a35e0ed6351318ed\\\\setup.py'\"'\"'; __file__='\"'\"'C:\\\\Users\\\\sbhew\\\\AppData\\\\Local\\\\Temp\\\\pip-install-vaq8d3il\\\\fiona_df50cd54a2f845c9a35e0ed6351318ed\\\\setup.py'\"'\"';f = getattr(tokenize, '\"'\"'open'\"'\"', open)(__file__) if os.path.exists(__file__) else io.StringIO('\"'\"'from setuptools import setup; setup()'\"'\"');code = f.read().replace('\"'\"'\\r\\n'\"'\"', '\"'\"'\\n'\"'\"');f.close();exec(compile(code, __file__, '\"'\"'exec'\"'\"'))' install --record 'C:\\Users\\sbhew\\AppData\\Local\\Temp\\pip-record-npkg62ei\\install-record.txt' --single-version-externally-managed --compile --install-headers 'C:\\Users\\sbhew\\anaconda3\\Include\\fiona' Check the logs for full command output.\n"
     ]
    }
   ],
   "source": [
    "pip install geopandas"
   ]
  },
  {
   "cell_type": "code",
   "execution_count": null,
   "id": "ec65318c-83d5-4675-bf0a-000c74292112",
   "metadata": {},
   "outputs": [],
   "source": []
  }
 ],
 "metadata": {
  "kernelspec": {
   "display_name": "Python 3 (ipykernel)",
   "language": "python",
   "name": "python3"
  },
  "language_info": {
   "codemirror_mode": {
    "name": "ipython",
    "version": 3
   },
   "file_extension": ".py",
   "mimetype": "text/x-python",
   "name": "python",
   "nbconvert_exporter": "python",
   "pygments_lexer": "ipython3",
   "version": "3.9.12"
  }
 },
 "nbformat": 4,
 "nbformat_minor": 5
}
